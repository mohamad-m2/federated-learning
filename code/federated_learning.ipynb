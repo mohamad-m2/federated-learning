{
  "cells": [
    {
      "cell_type": "markdown",
      "metadata": {
        "id": "5e1wcc0y6BOw"
      },
      "source": [
        "downloading files data.py and models.py"
      ]
    },
    {
      "cell_type": "code",
      "source": [
        "!pip install kaggle\n",
        "!mkdir ~/.kaggle\n",
        "!cp kaggle.json ~/.kaggle/\n",
        "!chmod 600 ~/.kaggle/kaggle.json"
      ],
      "metadata": {
        "id": "jcFYMhZN9FI_",
        "outputId": "d430ea94-7c43-4867-83d7-b8ebc8f069b9",
        "colab": {
          "base_uri": "https://localhost:8080/"
        }
      },
      "execution_count": null,
      "outputs": [
        {
          "output_type": "stream",
          "name": "stdout",
          "text": [
            "Requirement already satisfied: kaggle in /usr/local/lib/python3.7/dist-packages (1.5.12)\n",
            "Requirement already satisfied: urllib3 in /usr/local/lib/python3.7/dist-packages (from kaggle) (1.24.3)\n",
            "Requirement already satisfied: requests in /usr/local/lib/python3.7/dist-packages (from kaggle) (2.23.0)\n",
            "Requirement already satisfied: certifi in /usr/local/lib/python3.7/dist-packages (from kaggle) (2021.10.8)\n",
            "Requirement already satisfied: python-slugify in /usr/local/lib/python3.7/dist-packages (from kaggle) (6.1.1)\n",
            "Requirement already satisfied: tqdm in /usr/local/lib/python3.7/dist-packages (from kaggle) (4.64.0)\n",
            "Requirement already satisfied: python-dateutil in /usr/local/lib/python3.7/dist-packages (from kaggle) (2.8.2)\n",
            "Requirement already satisfied: six>=1.10 in /usr/local/lib/python3.7/dist-packages (from kaggle) (1.15.0)\n",
            "Requirement already satisfied: text-unidecode>=1.3 in /usr/local/lib/python3.7/dist-packages (from python-slugify->kaggle) (1.3)\n",
            "Requirement already satisfied: chardet<4,>=3.0.2 in /usr/local/lib/python3.7/dist-packages (from requests->kaggle) (3.0.4)\n",
            "Requirement already satisfied: idna<3,>=2.5 in /usr/local/lib/python3.7/dist-packages (from requests->kaggle) (2.10)\n"
          ]
        }
      ]
    },
    {
      "cell_type": "code",
      "execution_count": null,
      "metadata": {
        "id": "Nh2gR1HfhINa"
      },
      "outputs": [],
      "source": [
        "import torch\n",
        "import torchvision\n",
        "from torchvision import transforms\n",
        "import torch.optim as optim\n",
        "from torch.utils.data import DataLoader,Dataset,ConcatDataset\n",
        "import torch.nn as nn\n",
        "import os\n",
        "import numpy as np\n",
        "import matplotlib.pyplot as plt\n",
        "import copy\n",
        "import math\n",
        "from models import LeNet,LeNet_BatchNorm\n",
        "from data import read_data,prepare_data_loader,tiny_image_net,EMD\n",
        "from gan import gan\n",
        "from encoder_decoder import *\n",
        "from train import *\n",
        "from test import *"
      ]
    },
    {
      "cell_type": "markdown",
      "metadata": {
        "id": "rEpFssLI6V9V"
      },
      "source": [
        "download data set and prepare loaders"
      ]
    },
    {
      "cell_type": "code",
      "execution_count": null,
      "metadata": {
        "id": "kJL4MPc1iSyY"
      },
      "outputs": [],
      "source": [
        "class extend:\n",
        "  def __call__(self,sample):\n",
        "    x=sample.view((1,3,32,32))\n",
        "    return x\n",
        "\n",
        "if not os.path.isfile('/content/cifar-10-python.tar.gz'):\n",
        "  !wget https://www.cs.toronto.edu/~kriz/cifar-10-python.tar.gz\n",
        "  !tar -xf /content/cifar-10-python.tar.gz\n",
        "\n",
        "if not os.path.isfile('/content/tiny-imagenet.zip'):\n",
        "  !kaggle datasets download -d akash2sharma/tiny-imagenet\n",
        "  !unzip /content/tiny-imagenet.zip\n",
        "\n",
        "train_transform = transforms.Compose([\n",
        "                                      \n",
        "                                      transforms.Normalize((0.5, 0.5, 0.5), (0.5, 0.5, 0.5)) # Normalizes tensor with mean and standard deviation\n",
        "])\n",
        "\n",
        "trans_imagenet=transforms.Compose([transforms.Resize((32,32)),\n",
        "                                      transforms.ToTensor(),\n",
        "                                      extend()\n",
        "                                      ])\n",
        "\n",
        "data_imagenet=tiny_image_net('tiny-imagenet-200',trans_imagenet,0.5)\n",
        " \n",
        "data=read_data('/content/cifar-10-batches-py')# return a list with all the data \n",
        "\n",
        "\n",
        "\n",
        "loaders=prepare_data_loader(data,train_transform,alpha=100,validation_fraction=0.2) # the validation set if specified will be the last element in the loader\n",
        "loader_imagenet=prepare_data_loader(data_imagenet,train_transform)\n"
      ]
    },
    {
      "cell_type": "code",
      "source": [
        "#generator=gan(400,loader_imagenet[0])\n",
        "\n",
        "generator=gan(120,loader_imagenet[0],Nz=100,Ndf=128,Ngf=128)\n",
        "#generator.load_state_dict(torch.load('gan_model')())"
      ],
      "metadata": {
        "id": "aF07mdhTB-0J",
        "colab": {
          "base_uri": "https://localhost:8080/"
        },
        "outputId": "16d629d7-e3e9-48e0-938e-4aa4423a60ba"
      },
      "execution_count": null,
      "outputs": [
        {
          "output_type": "stream",
          "name": "stderr",
          "text": [
            "/usr/local/lib/python3.7/dist-packages/torch/utils/data/dataloader.py:481: UserWarning: This DataLoader will create 4 worker processes in total. Our suggested max number of worker in current system is 2, which is smaller than what this DataLoader is going to create. Please be aware that excessive worker creation might get DataLoader running slow or even freeze, lower the worker number to avoid potential slowness/freeze if necessary.\n",
            "  cpuset_checked))\n"
          ]
        },
        {
          "output_type": "stream",
          "name": "stdout",
          "text": [
            "[0/120][0/196]\tLoss_D: 1.3821\tLoss_G: 7.6271\tD(x): 0.4920\tD(G(z)): 0.4749 / 0.0006\n",
            "[0/120][50/196]\tLoss_D: 0.6105\tLoss_G: 4.1535\tD(x): 0.7435\tD(G(z)): 0.1489 / 0.0259\n",
            "[0/120][100/196]\tLoss_D: 0.6437\tLoss_G: 6.7392\tD(x): 0.9634\tD(G(z)): 0.4135 / 0.0041\n",
            "[0/120][150/196]\tLoss_D: 1.7500\tLoss_G: 0.4408\tD(x): 0.2497\tD(G(z)): 0.0476 / 0.6762\n",
            "[1/120][0/196]\tLoss_D: 0.8744\tLoss_G: 5.0586\tD(x): 0.8955\tD(G(z)): 0.5024 / 0.0106\n",
            "[1/120][50/196]\tLoss_D: 0.6155\tLoss_G: 3.2954\tD(x): 0.6952\tD(G(z)): 0.1371 / 0.0485\n",
            "[1/120][100/196]\tLoss_D: 0.9055\tLoss_G: 3.3424\tD(x): 0.8282\tD(G(z)): 0.4512 / 0.0517\n",
            "[1/120][150/196]\tLoss_D: 0.4666\tLoss_G: 3.1848\tD(x): 0.8038\tD(G(z)): 0.1911 / 0.0485\n",
            "[2/120][0/196]\tLoss_D: 0.6740\tLoss_G: 3.4695\tD(x): 0.7715\tD(G(z)): 0.2961 / 0.0366\n",
            "[2/120][50/196]\tLoss_D: 1.3616\tLoss_G: 4.2576\tD(x): 0.8200\tD(G(z)): 0.6453 / 0.0193\n",
            "[2/120][100/196]\tLoss_D: 0.9324\tLoss_G: 2.3431\tD(x): 0.6122\tD(G(z)): 0.2694 / 0.1238\n",
            "[2/120][150/196]\tLoss_D: 0.8420\tLoss_G: 3.5716\tD(x): 0.7380\tD(G(z)): 0.3711 / 0.0431\n",
            "[3/120][0/196]\tLoss_D: 1.6197\tLoss_G: 3.5964\tD(x): 0.8482\tD(G(z)): 0.7305 / 0.0387\n",
            "[3/120][50/196]\tLoss_D: 1.4210\tLoss_G: 4.6428\tD(x): 0.8861\tD(G(z)): 0.6645 / 0.0225\n",
            "[3/120][100/196]\tLoss_D: 0.8678\tLoss_G: 2.7074\tD(x): 0.6551\tD(G(z)): 0.2774 / 0.0885\n",
            "[3/120][150/196]\tLoss_D: 0.8930\tLoss_G: 4.3309\tD(x): 0.7956\tD(G(z)): 0.4174 / 0.0244\n",
            "[4/120][0/196]\tLoss_D: 0.6995\tLoss_G: 3.5478\tD(x): 0.7621\tD(G(z)): 0.2919 / 0.0435\n",
            "[4/120][50/196]\tLoss_D: 0.9101\tLoss_G: 3.0093\tD(x): 0.6476\tD(G(z)): 0.2664 / 0.0778\n",
            "[4/120][100/196]\tLoss_D: 1.2795\tLoss_G: 4.2186\tD(x): 0.7759\tD(G(z)): 0.5434 / 0.0260\n",
            "[4/120][150/196]\tLoss_D: 0.9352\tLoss_G: 5.5320\tD(x): 0.8940\tD(G(z)): 0.5083 / 0.0064\n",
            "[5/120][0/196]\tLoss_D: 0.6135\tLoss_G: 3.6734\tD(x): 0.6500\tD(G(z)): 0.0422 / 0.0577\n",
            "[5/120][50/196]\tLoss_D: 0.5242\tLoss_G: 3.3973\tD(x): 0.7987\tD(G(z)): 0.2146 / 0.0485\n",
            "[5/120][100/196]\tLoss_D: 0.8107\tLoss_G: 5.2764\tD(x): 0.9235\tD(G(z)): 0.4666 / 0.0096\n",
            "[5/120][150/196]\tLoss_D: 0.5931\tLoss_G: 4.5882\tD(x): 0.7995\tD(G(z)): 0.2387 / 0.0203\n",
            "[6/120][0/196]\tLoss_D: 1.0233\tLoss_G: 4.6718\tD(x): 0.8039\tD(G(z)): 0.4928 / 0.0156\n",
            "[6/120][50/196]\tLoss_D: 0.4964\tLoss_G: 4.0228\tD(x): 0.8277\tD(G(z)): 0.2111 / 0.0293\n",
            "[6/120][100/196]\tLoss_D: 0.5174\tLoss_G: 4.7762\tD(x): 0.7929\tD(G(z)): 0.1879 / 0.0163\n",
            "[6/120][150/196]\tLoss_D: 0.5875\tLoss_G: 5.4618\tD(x): 0.9083\tD(G(z)): 0.3389 / 0.0078\n",
            "[7/120][0/196]\tLoss_D: 0.4314\tLoss_G: 4.1434\tD(x): 0.8615\tD(G(z)): 0.2166 / 0.0224\n",
            "[7/120][50/196]\tLoss_D: 0.7478\tLoss_G: 2.5910\tD(x): 0.5721\tD(G(z)): 0.0533 / 0.1036\n",
            "[7/120][100/196]\tLoss_D: 0.7109\tLoss_G: 4.7976\tD(x): 0.9312\tD(G(z)): 0.4201 / 0.0141\n",
            "[7/120][150/196]\tLoss_D: 0.9589\tLoss_G: 3.8444\tD(x): 0.8308\tD(G(z)): 0.4528 / 0.0476\n",
            "[8/120][0/196]\tLoss_D: 0.4090\tLoss_G: 3.6217\tD(x): 0.7478\tD(G(z)): 0.0550 / 0.0399\n",
            "[8/120][50/196]\tLoss_D: 2.3268\tLoss_G: 1.6908\tD(x): 0.1800\tD(G(z)): 0.0130 / 0.2596\n",
            "[8/120][100/196]\tLoss_D: 1.0778\tLoss_G: 4.1918\tD(x): 0.7203\tD(G(z)): 0.4052 / 0.0292\n",
            "[8/120][150/196]\tLoss_D: 0.8551\tLoss_G: 2.0856\tD(x): 0.5606\tD(G(z)): 0.1178 / 0.1717\n",
            "[9/120][0/196]\tLoss_D: 0.9914\tLoss_G: 2.5828\tD(x): 0.6630\tD(G(z)): 0.3261 / 0.1149\n",
            "[9/120][50/196]\tLoss_D: 0.7920\tLoss_G: 3.8714\tD(x): 0.8175\tD(G(z)): 0.3842 / 0.0303\n",
            "[9/120][100/196]\tLoss_D: 1.4227\tLoss_G: 5.0957\tD(x): 0.8401\tD(G(z)): 0.6444 / 0.0105\n",
            "[9/120][150/196]\tLoss_D: 0.7731\tLoss_G: 2.5748\tD(x): 0.6449\tD(G(z)): 0.1948 / 0.1209\n",
            "[10/120][0/196]\tLoss_D: 0.7499\tLoss_G: 3.9101\tD(x): 0.7968\tD(G(z)): 0.3510 / 0.0330\n",
            "[10/120][50/196]\tLoss_D: 1.0390\tLoss_G: 3.1049\tD(x): 0.6380\tD(G(z)): 0.3368 / 0.0708\n",
            "[10/120][100/196]\tLoss_D: 0.9981\tLoss_G: 3.1780\tD(x): 0.8739\tD(G(z)): 0.4875 / 0.0710\n",
            "[10/120][150/196]\tLoss_D: 0.8088\tLoss_G: 2.6276\tD(x): 0.5661\tD(G(z)): 0.0872 / 0.1032\n",
            "[11/120][0/196]\tLoss_D: 0.6034\tLoss_G: 3.1829\tD(x): 0.7703\tD(G(z)): 0.2185 / 0.0650\n",
            "[11/120][50/196]\tLoss_D: 0.8651\tLoss_G: 4.3794\tD(x): 0.8348\tD(G(z)): 0.4293 / 0.0200\n",
            "[11/120][100/196]\tLoss_D: 0.8616\tLoss_G: 2.4975\tD(x): 0.6202\tD(G(z)): 0.2071 / 0.1295\n",
            "[11/120][150/196]\tLoss_D: 0.6663\tLoss_G: 4.0450\tD(x): 0.7709\tD(G(z)): 0.2826 / 0.0275\n",
            "[12/120][0/196]\tLoss_D: 0.8092\tLoss_G: 2.7353\tD(x): 0.6576\tD(G(z)): 0.2420 / 0.0999\n",
            "[12/120][50/196]\tLoss_D: 0.6179\tLoss_G: 2.5663\tD(x): 0.7291\tD(G(z)): 0.1895 / 0.1248\n",
            "[12/120][100/196]\tLoss_D: 0.8206\tLoss_G: 1.8715\tD(x): 0.6293\tD(G(z)): 0.2059 / 0.2103\n",
            "[12/120][150/196]\tLoss_D: 1.0022\tLoss_G: 3.1910\tD(x): 0.7585\tD(G(z)): 0.4401 / 0.0604\n",
            "[13/120][0/196]\tLoss_D: 0.8762\tLoss_G: 5.0153\tD(x): 0.8730\tD(G(z)): 0.4683 / 0.0105\n",
            "[13/120][50/196]\tLoss_D: 1.3399\tLoss_G: 4.9615\tD(x): 0.9176\tD(G(z)): 0.6490 / 0.0105\n",
            "[13/120][100/196]\tLoss_D: 0.9855\tLoss_G: 1.7149\tD(x): 0.4932\tD(G(z)): 0.0779 / 0.2581\n",
            "[13/120][150/196]\tLoss_D: 1.0400\tLoss_G: 4.7517\tD(x): 0.9186\tD(G(z)): 0.5629 / 0.0121\n",
            "[14/120][0/196]\tLoss_D: 0.8199\tLoss_G: 3.4429\tD(x): 0.7432\tD(G(z)): 0.3495 / 0.0456\n",
            "[14/120][50/196]\tLoss_D: 1.1682\tLoss_G: 1.7524\tD(x): 0.4090\tD(G(z)): 0.0503 / 0.2205\n",
            "[14/120][100/196]\tLoss_D: 0.5736\tLoss_G: 2.8837\tD(x): 0.8065\tD(G(z)): 0.2622 / 0.0756\n",
            "[14/120][150/196]\tLoss_D: 1.1216\tLoss_G: 2.1177\tD(x): 0.6036\tD(G(z)): 0.3058 / 0.2091\n",
            "[15/120][0/196]\tLoss_D: 0.6744\tLoss_G: 2.9588\tD(x): 0.8630\tD(G(z)): 0.3626 / 0.0713\n",
            "[15/120][50/196]\tLoss_D: 1.1600\tLoss_G: 3.2156\tD(x): 0.7009\tD(G(z)): 0.4880 / 0.0549\n",
            "[15/120][100/196]\tLoss_D: 1.5157\tLoss_G: 1.1609\tD(x): 0.2942\tD(G(z)): 0.0411 / 0.3829\n",
            "[15/120][150/196]\tLoss_D: 0.7456\tLoss_G: 2.5587\tD(x): 0.6840\tD(G(z)): 0.2524 / 0.1049\n",
            "[16/120][0/196]\tLoss_D: 0.8938\tLoss_G: 2.0150\tD(x): 0.5367\tD(G(z)): 0.1526 / 0.1780\n",
            "[16/120][50/196]\tLoss_D: 0.8987\tLoss_G: 2.6287\tD(x): 0.6606\tD(G(z)): 0.3251 / 0.0960\n",
            "[16/120][100/196]\tLoss_D: 1.0315\tLoss_G: 1.6031\tD(x): 0.5497\tD(G(z)): 0.2499 / 0.2649\n",
            "[16/120][150/196]\tLoss_D: 1.0146\tLoss_G: 1.0985\tD(x): 0.5011\tD(G(z)): 0.1941 / 0.3827\n",
            "[17/120][0/196]\tLoss_D: 0.9549\tLoss_G: 4.5043\tD(x): 0.9000\tD(G(z)): 0.5150 / 0.0197\n",
            "[17/120][50/196]\tLoss_D: 1.6936\tLoss_G: 5.2559\tD(x): 0.9391\tD(G(z)): 0.7609 / 0.0085\n",
            "[17/120][100/196]\tLoss_D: 1.2122\tLoss_G: 1.2211\tD(x): 0.3794\tD(G(z)): 0.0606 / 0.3415\n",
            "[17/120][150/196]\tLoss_D: 1.5741\tLoss_G: 4.2969\tD(x): 0.8719\tD(G(z)): 0.6970 / 0.0213\n",
            "[18/120][0/196]\tLoss_D: 0.5995\tLoss_G: 3.8142\tD(x): 0.8888\tD(G(z)): 0.3483 / 0.0311\n",
            "[18/120][50/196]\tLoss_D: 1.2979\tLoss_G: 4.6174\tD(x): 0.9455\tD(G(z)): 0.6591 / 0.0145\n",
            "[18/120][100/196]\tLoss_D: 0.8865\tLoss_G: 3.3431\tD(x): 0.7595\tD(G(z)): 0.4080 / 0.0467\n",
            "[18/120][150/196]\tLoss_D: 1.4756\tLoss_G: 5.4618\tD(x): 0.9277\tD(G(z)): 0.7129 / 0.0068\n",
            "[19/120][0/196]\tLoss_D: 0.6797\tLoss_G: 2.9142\tD(x): 0.8313\tD(G(z)): 0.3443 / 0.0816\n",
            "[19/120][50/196]\tLoss_D: 0.8760\tLoss_G: 1.5925\tD(x): 0.5395\tD(G(z)): 0.1382 / 0.2526\n",
            "[19/120][100/196]\tLoss_D: 0.9923\tLoss_G: 2.1273\tD(x): 0.5698\tD(G(z)): 0.2713 / 0.1626\n",
            "[19/120][150/196]\tLoss_D: 1.4450\tLoss_G: 5.6523\tD(x): 0.8598\tD(G(z)): 0.6389 / 0.0066\n",
            "[20/120][0/196]\tLoss_D: 0.9142\tLoss_G: 2.1139\tD(x): 0.7199\tD(G(z)): 0.3890 / 0.1595\n",
            "[20/120][50/196]\tLoss_D: 0.8660\tLoss_G: 1.5200\tD(x): 0.5425\tD(G(z)): 0.1444 / 0.2606\n",
            "[20/120][100/196]\tLoss_D: 1.5024\tLoss_G: 0.8466\tD(x): 0.2889\tD(G(z)): 0.0689 / 0.4874\n",
            "[20/120][150/196]\tLoss_D: 0.6380\tLoss_G: 3.2595\tD(x): 0.9165\tD(G(z)): 0.3955 / 0.0498\n",
            "[21/120][0/196]\tLoss_D: 1.4566\tLoss_G: 4.9660\tD(x): 0.9721\tD(G(z)): 0.6951 / 0.0130\n"
          ]
        }
      ]
    },
    {
      "cell_type": "code",
      "execution_count": null,
      "metadata": {
        "id": "-pOMXUirLvY8",
        "colab": {
          "base_uri": "https://localhost:8080/"
        },
        "outputId": "e3f20742-e6af-4f26-f7b7-e964968c1c63"
      },
      "outputs": [
        {
          "output_type": "stream",
          "name": "stderr",
          "text": [
            "/usr/local/lib/python3.7/dist-packages/torch/utils/data/dataloader.py:481: UserWarning: This DataLoader will create 4 worker processes in total. Our suggested max number of worker in current system is 2, which is smaller than what this DataLoader is going to create. Please be aware that excessive worker creation might get DataLoader running slow or even freeze, lower the worker number to avoid potential slowness/freeze if necessary.\n",
            "  cpuset_checked))\n"
          ]
        },
        {
          "output_type": "stream",
          "name": "stdout",
          "text": [
            "\t partial train loss (single batch): 0.278647\n",
            "0\n",
            "[0.01, 0.01]\n",
            "\t partial train loss (single batch): 0.274958\n",
            "\t partial train loss (single batch): 0.271766\n",
            "\t partial train loss (single batch): 0.243364\n",
            "\t partial train loss (single batch): 0.208815\n",
            "\t partial train loss (single batch): 0.203203\n",
            "\t partial train loss (single batch): 0.200727\n",
            "\t partial train loss (single batch): 0.199539\n",
            "\t partial train loss (single batch): 0.198325\n",
            "\t partial train loss (single batch): 0.197320\n",
            "\t partial train loss (single batch): 0.196710\n",
            "\t partial train loss (single batch): 0.196128\n",
            "\t partial train loss (single batch): 0.195778\n",
            "\t partial train loss (single batch): 0.195634\n",
            "\t partial train loss (single batch): 0.195364\n",
            "\t partial train loss (single batch): 0.195059\n",
            "\t partial train loss (single batch): 0.194981\n",
            "\t partial train loss (single batch): 0.194904\n",
            "\t partial train loss (single batch): 0.194738\n",
            "\t partial train loss (single batch): 0.195021\n",
            "\t partial train loss (single batch): 0.194820\n",
            "\t partial train loss (single batch): 0.194645\n",
            "\t partial train loss (single batch): 0.194572\n",
            "\t partial train loss (single batch): 0.194687\n",
            "\t partial train loss (single batch): 0.194663\n",
            "\t partial train loss (single batch): 0.194450\n",
            "\t partial train loss (single batch): 0.194676\n",
            "\t partial train loss (single batch): 0.194435\n",
            "\t partial train loss (single batch): 0.194684\n",
            "\t partial train loss (single batch): 0.194459\n"
          ]
        }
      ],
      "source": [
        "decoder,mean_tiny_img_net,cov_tiny_img_net=train_encoder_decoder(120,loader_imagenet[0],Device='cuda')"
      ]
    },
    {
      "cell_type": "code",
      "execution_count": null,
      "metadata": {
        "colab": {
          "base_uri": "https://localhost:8080/",
          "height": 786
        },
        "id": "gGt3Ji9mX-Kc",
        "outputId": "56a09d60-cdb5-4ae4-9353-1e1f454796c8"
      },
      "outputs": [
        {
          "output_type": "stream",
          "name": "stderr",
          "text": [
            "Clipping input data to the valid range for imshow with RGB data ([0..1] for floats or [0..255] for integers).\n"
          ]
        },
        {
          "output_type": "stream",
          "name": "stdout",
          "text": [
            "tensor([[[[-0.8197, -0.6037, -0.0826,  ..., -0.5931, -0.5191, -0.2834],\n",
            "          [-0.5136,  0.0108,  0.1532,  ..., -0.6099, -0.4130, -0.0991],\n",
            "          [-0.3037, -0.2971, -0.1879,  ..., -0.5616, -0.3407,  0.1460],\n",
            "          ...,\n",
            "          [-0.9074, -0.9094, -0.9144,  ...,  0.7556,  0.6582, -0.0970],\n",
            "          [-0.8883, -0.9560, -0.9629,  ...,  0.8450,  0.8019,  0.0035],\n",
            "          [-0.9956, -0.9701, -0.9596,  ...,  0.8704,  0.8171,  0.6388]],\n",
            "\n",
            "         [[-0.7075, -0.6227, -0.4798,  ..., -0.3150, -0.2661,  0.1126],\n",
            "          [-0.6151, -0.5872, -0.5261,  ..., -0.3979, -0.1610,  0.1962],\n",
            "          [-0.3957, -0.5232, -0.5837,  ..., -0.4294, -0.0689,  0.3074],\n",
            "          ...,\n",
            "          [-0.6678, -0.7384, -0.7710,  ...,  0.9090,  0.9067,  0.5737],\n",
            "          [-0.6550, -0.8400, -0.8479,  ...,  0.9443,  0.9463,  0.7919],\n",
            "          [-0.9821, -0.8645, -0.9179,  ...,  0.9594,  0.9709,  0.9212]],\n",
            "\n",
            "         [[-0.8142, -0.8779, -0.7252,  ..., -0.3603, -0.2730,  0.2695],\n",
            "          [-0.7697, -0.5446, -0.3477,  ..., -0.5186, -0.2611,  0.2317],\n",
            "          [-0.5341, -0.7934, -0.7144,  ..., -0.6414, -0.2675,  0.3148],\n",
            "          ...,\n",
            "          [-0.7083, -0.6420, -0.8061,  ...,  0.8179,  0.8304,  0.2544],\n",
            "          [-0.4306, -0.7165, -0.8599,  ...,  0.8723,  0.9165,  0.5960],\n",
            "          [-0.8411, -0.8524, -0.8233,  ...,  0.9173,  0.9200,  0.8737]]]],\n",
            "       device='cuda:0', grad_fn=<DivBackward0>)\n"
          ]
        },
        {
          "output_type": "execute_result",
          "data": {
            "text/plain": [
              "<matplotlib.image.AxesImage at 0x7f565b000ad0>"
            ]
          },
          "metadata": {},
          "execution_count": 8
        },
        {
          "output_type": "display_data",
          "data": {
            "text/plain": [
              "<Figure size 720x720 with 1 Axes>"
            ],
            "image/png": "[encoded data removed]"
          },
          "metadata": {
            "needs_background": "light"
          }
        }
      ],
      "source": [
        "import torchvision.utils as vutils\n",
        "#z=torch.from_numpy(np.random.multivariate_normal(mean_tiny_img_net,cov_tiny_img_net).astype(np.float32))\n",
        "#decoder.train(False)\n",
        "#z=torch.normal(torch.zeros((1,128,1,1)),1)\n",
        "\n",
        "#z=z.view((1,128,1,1))\n",
        "#d3=decoder(z.to('cuda'))\n",
        "\n",
        "z=torch.randn(1, 100, 1, 1)\n",
        "z=z.to('cuda')\n",
        "d3=generator(z)\n",
        "d3=d3/(d3.max())\n",
        "print(d3)\n",
        "\n",
        "d3-=d3.min()\n",
        "d3=d3/d3.max()\n",
        "plt.figure(figsize=(10,10))\n",
        "\n",
        "d5=loader_imagenet[0].dataset[27][0].to('cpu').view((1,3,32,32))\n",
        "d5=d5/(d5.max()-d5.min())\n",
        "plt.imshow(np.transpose(vutils.make_grid(torch.cat((d3[0].to('cpu').view((1,3,32,32)),\n",
        "                              d5)),\n",
        "                                padding=2 ),(1,2,0)))\n"
      ]
    },
    {
      "cell_type": "markdown",
      "metadata": {
        "id": "rOWGBkWUuCcz"
      },
      "source": [
        "#learning rate tuning"
      ]
    },
    {
      "cell_type": "markdown",
      "metadata": {
        "id": "aGOrOrds6z1X"
      },
      "source": [
        "learning rate hyperparameter tuning for 20 epochs in centralized setting"
      ]
    },
    {
      "cell_type": "code",
      "execution_count": null,
      "metadata": {
        "id": "01JThIsUn2ds"
      },
      "outputs": [],
      "source": [
        "learning_rates=[0.2,0.15,0.1,0.08,0.06,0.05,0.04,0.02,0.01,0.005]\n",
        "weight_decay=10**-4\n",
        "loss=nn.CrossEntropyLoss()\n",
        "results=[]\n",
        "acc_val=[]\n",
        "z=0\n",
        "for lr in learning_rates:\n",
        "  net=LeNet(3,10)\n",
        "  net.to('cuda')\n",
        "\n",
        "  optimizer=torch.optim.SGD(net.parameters(),lr,weight_decay)\n",
        "  for i in range(30):\n",
        "    lo,acc=train(net,loaders[0],optimizer,loss,'cuda')\n",
        "    if(i==29):\n",
        "      z=z+1\n",
        "      results.append(f'lr= {lr}: loss= {lo}, acc= {acc}')\n",
        "      print(f'step {z} out of {len(learning_rates)}')\n",
        "  acc_val.append(test(net,loaders[1],'cuda'))\n",
        "\n",
        "torch.save({'acc_val':acc_val,'training':results},'parameter-tuning')"
      ]
    },
    {
      "cell_type": "markdown",
      "metadata": {
        "id": "7EH93Cu4uH5U"
      },
      "source": [
        "#weight and loss def"
      ]
    },
    {
      "cell_type": "code",
      "execution_count": null,
      "metadata": {
        "id": "AoSKJX5_uLvQ"
      },
      "outputs": [],
      "source": [
        "weight_decay=10**-4\n",
        "loss=nn.CrossEntropyLoss()"
      ]
    },
    {
      "cell_type": "markdown",
      "metadata": {
        "id": "dhyTAbO7uNWL"
      },
      "source": [
        "#centralized"
      ]
    },
    {
      "cell_type": "markdown",
      "metadata": {
        "id": "nleUh3X67FUV"
      },
      "source": [
        "training loop for 120 epochs centralized"
      ]
    },
    {
      "cell_type": "code",
      "execution_count": null,
      "metadata": {
        "colab": {
          "base_uri": "https://localhost:8080/",
          "height": 1000
        },
        "id": "pkF-c3VyYv-e",
        "outputId": "5ebe3428-17b4-41fe-e934-91037f345d4e"
      },
      "outputs": [
        {
          "output_type": "stream",
          "name": "stdout",
          "text": [
            "torch.Size([40000, 3, 32, 32])\n",
            "torch.Size([10000, 3, 32, 32])\n"
          ]
        },
        {
          "output_type": "stream",
          "name": "stderr",
          "text": [
            "/usr/local/lib/python3.7/dist-packages/torch/utils/data/dataloader.py:481: UserWarning: This DataLoader will create 4 worker processes in total. Our suggested max number of worker in current system is 2, which is smaller than what this DataLoader is going to create. Please be aware that excessive worker creation might get DataLoader running slow or even freeze, lower the worker number to avoid potential slowness/freeze if necessary.\n",
            "  cpuset_checked))\n"
          ]
        },
        {
          "output_type": "stream",
          "name": "stdout",
          "text": [
            "step 0 out of 120\n",
            "step 1 out of 120\n",
            "step 2 out of 120\n",
            "step 3 out of 120\n",
            "step 4 out of 120\n",
            "step 5 out of 120\n",
            "step 6 out of 120\n",
            "step 7 out of 120\n",
            "step 8 out of 120\n",
            "step 9 out of 120\n",
            "step 10 out of 120\n",
            "step 11 out of 120\n",
            "step 12 out of 120\n",
            "step 13 out of 120\n",
            "step 14 out of 120\n",
            "step 15 out of 120\n",
            "step 16 out of 120\n",
            "step 17 out of 120\n",
            "step 18 out of 120\n",
            "step 19 out of 120\n",
            "step 20 out of 120\n",
            "step 21 out of 120\n",
            "step 22 out of 120\n",
            "step 23 out of 120\n",
            "step 24 out of 120\n",
            "step 25 out of 120\n",
            "step 26 out of 120\n",
            "step 27 out of 120\n",
            "step 28 out of 120\n",
            "step 29 out of 120\n",
            "step 30 out of 120\n",
            "step 31 out of 120\n",
            "step 32 out of 120\n",
            "step 33 out of 120\n",
            "step 34 out of 120\n",
            "step 35 out of 120\n",
            "step 36 out of 120\n",
            "step 37 out of 120\n",
            "step 38 out of 120\n",
            "step 39 out of 120\n",
            "step 40 out of 120\n",
            "step 41 out of 120\n",
            "step 42 out of 120\n",
            "step 43 out of 120\n",
            "step 44 out of 120\n",
            "step 45 out of 120\n",
            "step 46 out of 120\n",
            "step 47 out of 120\n",
            "step 48 out of 120\n",
            "step 49 out of 120\n",
            "step 50 out of 120\n",
            "step 51 out of 120\n",
            "step 52 out of 120\n",
            "step 53 out of 120\n",
            "step 54 out of 120\n",
            "step 55 out of 120\n",
            "step 56 out of 120\n",
            "step 57 out of 120\n",
            "step 58 out of 120\n",
            "step 59 out of 120\n",
            "step 60 out of 120\n",
            "step 61 out of 120\n",
            "step 62 out of 120\n",
            "step 63 out of 120\n",
            "step 64 out of 120\n",
            "step 65 out of 120\n",
            "step 66 out of 120\n",
            "step 67 out of 120\n",
            "step 68 out of 120\n",
            "step 69 out of 120\n",
            "step 70 out of 120\n",
            "step 71 out of 120\n",
            "step 72 out of 120\n",
            "step 73 out of 120\n",
            "step 74 out of 120\n",
            "step 75 out of 120\n",
            "step 76 out of 120\n",
            "step 77 out of 120\n",
            "step 78 out of 120\n",
            "step 79 out of 120\n",
            "step 80 out of 120\n",
            "step 81 out of 120\n",
            "step 82 out of 120\n",
            "step 83 out of 120\n",
            "step 84 out of 120\n",
            "step 85 out of 120\n",
            "step 86 out of 120\n",
            "step 87 out of 120\n",
            "step 88 out of 120\n",
            "step 89 out of 120\n",
            "step 90 out of 120\n",
            "step 91 out of 120\n",
            "step 92 out of 120\n",
            "step 93 out of 120\n",
            "step 94 out of 120\n",
            "step 95 out of 120\n",
            "step 96 out of 120\n",
            "step 97 out of 120\n",
            "step 98 out of 120\n",
            "step 99 out of 120\n",
            "step 100 out of 120\n",
            "step 101 out of 120\n",
            "step 102 out of 120\n",
            "step 103 out of 120\n",
            "step 104 out of 120\n",
            "step 105 out of 120\n",
            "step 106 out of 120\n",
            "step 107 out of 120\n",
            "step 108 out of 120\n",
            "step 109 out of 120\n",
            "step 110 out of 120\n",
            "step 111 out of 120\n",
            "step 112 out of 120\n",
            "step 113 out of 120\n",
            "step 114 out of 120\n",
            "step 115 out of 120\n",
            "step 116 out of 120\n",
            "step 117 out of 120\n",
            "step 118 out of 120\n",
            "step 119 out of 120\n"
          ]
        },
        {
          "output_type": "execute_result",
          "data": {
            "text/plain": [
              "<matplotlib.legend.Legend at 0x7fc31032e590>"
            ]
          },
          "metadata": {},
          "execution_count": 18
        },
        {
          "output_type": "display_data",
          "data": {
            "text/plain": [
              "<Figure size 432x288 with 1 Axes>"
            ],
            "image/png": "[encoded data removed]"
          },
          "metadata": {
            "needs_background": "light"
          }
        }
      ],
      "source": [
        "net=LeNet(3,10)\n",
        "net.to('cuda')\n",
        "lo,acc=[],[]\n",
        "loaders=prepare_data_loader(data,train_transform,validation_fraction=0.2)\n",
        "optimizer=torch.optim.SGD(net.parameters(),0.1,weight_decay)\n",
        "for i in range(120):\n",
        "  x,y=train(net,loaders[0],optimizer,loss,'cuda')\n",
        "  print(f'step {i} out of 120')\n",
        "  lo.append(x)\n",
        "  acc.append(y)\n",
        "accuracy=test(net,loaders[1],'cuda')\n",
        "plt.plot(range(120),lo,label='loss')\n",
        "plt.plot(range(120),acc,label='acc')\n",
        "plt.legend()"
      ]
    },
    {
      "cell_type": "code",
      "source": [
        "accuracy"
      ],
      "metadata": {
        "colab": {
          "base_uri": "https://localhost:8080/"
        },
        "id": "0REKHoysWDNR",
        "outputId": "c148feba-5a44-446c-c02b-9825719a6a5b"
      },
      "execution_count": null,
      "outputs": [
        {
          "output_type": "execute_result",
          "data": {
            "text/plain": [
              "0.4817"
            ]
          },
          "metadata": {},
          "execution_count": 19
        }
      ]
    },
    {
      "cell_type": "markdown",
      "metadata": {
        "id": "0xLCTM7mupQe"
      },
      "source": [
        "#federated_learning"
      ]
    },
    {
      "cell_type": "code",
      "execution_count": null,
      "metadata": {
        "id": "1p3I-lG59L-3"
      },
      "outputs": [],
      "source": [
        "def federated_training(data,model='LeNet',nbclients=20,alpha=10000,lr=0.1,epoch=1,clients_per_round=0.2,val_fraction=0.2,\n",
        "                       transform=train_transform,nb_rounds=120,mu=0.1,wr=1,fr=0.5,cycle=True,mode='fedAvg',generation_model=None):\n",
        "  NbClients=nbclients # data distributed over 20 clients\n",
        "  Alpha=alpha # iid condition \n",
        "  NbClientsPerRound=clients_per_round # fraction of clients unfiformly choosen at each round\n",
        "  E=epoch # local epoch\n",
        "  Lr=lr # learning rate\n",
        "  TotalRounds=nb_rounds\n",
        "  if(mode=='fedExt'):\n",
        "    nb_out=11\n",
        "  else:\n",
        "    nb_out=10\n",
        "\n",
        "  loss_total=[]\n",
        "\n",
        "  if model=='LeNet':\n",
        "    server_model=LeNet(3,nb_out)\n",
        "    client_models=[LeNet(3,nb_out) for i in range(NbClients)]\n",
        "  else:\n",
        "    server_model=LeNet_BatchNorm(3,nb_out)\n",
        "    client_models=[LeNet_BatchNorm(3,nb_out) for i in range(NbClients)]\n",
        "\n",
        "  mock_string=mode if mode=='fedAvg' else mode+' '+str(mu)\n",
        "  file=f'/content/{model}_federated_{mock_string}_param_{epoch}_{Alpha}_{NbClientsPerRound}_{lr}' # to save and load the state of the model after each round in case of failure , mark that saving which round and the loaders is also necessary\n",
        "\n",
        "  if not os.path.isfile(file):\n",
        "    loaders=prepare_data_loader(data,transform,validation_fraction=val_fraction,centralized=False,nb_clients=NbClients,alpha=Alpha)\n",
        "    if(cycle==False and mode=='fedExt'):\n",
        "      for j in range(len(loaders[:-1])):\n",
        "        loaders[j]=copy.deepcopy(mix_generate(loaders[j],fr,generation_model))\n",
        "    len_loaders=[len(i.dataset) for i in loaders]\n",
        "    \n",
        "    checkpoint={'round': 0, 'server_model': server_model.state_dict(), 'loaders': (loaders,len_loaders),'loss':loss_total}\n",
        "    torch.save(checkpoint,file)\n",
        "\n",
        "  checkpoint=copy.deepcopy(torch.load(file)) # load the previous weights or states in case of internet connection /session  problem continue from last round\n",
        "  server_model.load_state_dict(checkpoint['server_model'])\n",
        "  server_model.to('cuda')\n",
        "  loaders,len_loaders=checkpoint['loaders']\n",
        "  loss_total=copy.deepcopy(checkpoint['loss'])\n",
        "  ###\n",
        "  p=[0]*10\n",
        "  for i,j in loaders[-1]:\n",
        "    for k in j:\n",
        "      p[k]+=1\n",
        "  p=np.array(p)\n",
        "  p=p/p.sum()\n",
        "  ####\n",
        "  for model in client_models:\n",
        "    model.load_state_dict(checkpoint['server_model'])\n",
        "\n",
        "  for Round in range(checkpoint['round'],TotalRounds): # begining of federated training\n",
        "    \n",
        "    choosen_indexes=np.random.choice(list(range(len(client_models))),round(NbClients*NbClientsPerRound)) # randomly choose clients to participate in this training round\n",
        "    choosen_models=[client_models[i] for i in choosen_indexes]\n",
        "    choosen_loaders=[loaders[i] for i in choosen_indexes]\n",
        "    choosen_weights=np.array([len_loaders[i] for i in choosen_indexes])\n",
        "    choosen_weights=choosen_weights/choosen_weights.sum() # weighting client depending on ni/n (ni nb samples the client have/ n total nb of sample in this round)\n",
        "    client_optimizers=[optim.SGD(model.parameters(),Lr,weight_decay) for model in choosen_models] #initialize optimizers (needed because oof the communication step maybe where clients model get the agggregated serever one maybe ???)\n",
        "    \n",
        "    loss_models=[]\n",
        "    for i,model in enumerate(choosen_models):\n",
        "      for epoch in range(E):\n",
        "        if(mode=='fedAvg'):\n",
        "          c,_=train(model,choosen_loaders[i],client_optimizers[i],loss,'cuda')\n",
        "        else:\n",
        "          if(mode=='fedProx'):\n",
        "            c,_=train_fedprox(server_model,model,choosen_loaders[i],client_optimizers[i],loss,mu,'cuda')\n",
        "          else:\n",
        "            if(mode=='fedExt'):\n",
        "              c,_=train_EXT(model,choosen_loaders[i],client_optimizers[i],wr,fr,'cuda',generation_model,cycle)\n",
        "            else:\n",
        "              c,_=train_IR(model,choosen_loaders[i],client_optimizers[i],loss,p,'cuda')\n",
        "        if(epoch==E-1):\n",
        "          loss_models.append(c)\n",
        "    loss_models=np.array(loss_models).mean()\n",
        "    loss_total.append(loss_models)\n",
        "\n",
        "\n",
        "    avg_weights=communication(server_model,choosen_models,choosen_weights,len(choosen_indexes))\n",
        "    checkpoint['server_model']=copy.deepcopy(avg_weights)\n",
        "    checkpoint['round']=Round+1\n",
        "    checkpoint['loss']=loss_total\n",
        "    torch.save(checkpoint,file)\n",
        "\n",
        "    for model in client_models:# update all models with the new weights\n",
        "      model.load_state_dict(checkpoint['server_model'])\n",
        "    server_model.load_state_dict(checkpoint['server_model'])\n",
        "    if(Round%10==0):\n",
        "      print(f'round {Round} of {TotalRounds}')\n",
        "  return server_model,loaders,loss_total\n"
      ]
    },
    {
      "cell_type": "markdown",
      "metadata": {
        "id": "Mm_OiNI1vJFe"
      },
      "source": [
        "#fedavg experiments"
      ]
    },
    {
      "cell_type": "code",
      "execution_count": null,
      "metadata": {
        "id": "B_p2-EMIjzK7"
      },
      "outputs": [],
      "source": [
        "acc=[]\n",
        "loss_total=[]\n",
        "for i in [0.01,0.1,1,10,100,1000]:\n",
        "  model,loader,z=federated_training(data,alpha=i,clients_per_round=0.2,nbclients=20,nb_rounds=120)\n",
        "  x=test(model,loader[-1],'cuda')\n",
        "  acc.append(x)\n",
        "  loss_total.append(z)"
      ]
    },
    {
      "cell_type": "code",
      "execution_count": null,
      "metadata": {
        "colab": {
          "base_uri": "https://localhost:8080/",
          "height": 34
        },
        "id": "_dfDP-A3zKRN",
        "outputId": "578a55ca-a256-40ee-a578-07ded71c8dc0"
      },
      "outputs": [
        {
          "data": {
            "application/javascript": [
              "\n",
              "    async function download(id, filename, size) {\n",
              "      if (!google.colab.kernel.accessAllowed) {\n",
              "        return;\n",
              "      }\n",
              "      const div = document.createElement('div');\n",
              "      const label = document.createElement('label');\n",
              "      label.textContent = `Downloading \"${filename}\": `;\n",
              "      div.appendChild(label);\n",
              "      const progress = document.createElement('progress');\n",
              "      progress.max = size;\n",
              "      div.appendChild(progress);\n",
              "      document.body.appendChild(div);\n",
              "\n",
              "      const buffers = [];\n",
              "      let downloaded = 0;\n",
              "\n",
              "      const channel = await google.colab.kernel.comms.open(id);\n",
              "      // Send a message to notify the kernel that we're ready.\n",
              "      channel.send({})\n",
              "\n",
              "      for await (const message of channel.messages) {\n",
              "        // Send a message to notify the kernel that we're ready.\n",
              "        channel.send({})\n",
              "        if (message.buffers) {\n",
              "          for (const buffer of message.buffers) {\n",
              "            buffers.push(buffer);\n",
              "            downloaded += buffer.byteLength;\n",
              "            progress.value = downloaded;\n",
              "          }\n",
              "        }\n",
              "      }\n",
              "      const blob = new Blob(buffers, {type: 'application/binary'});\n",
              "      const a = document.createElement('a');\n",
              "      a.href = window.URL.createObjectURL(blob);\n",
              "      a.download = filename;\n",
              "      div.appendChild(a);\n",
              "      a.click();\n",
              "      div.remove();\n",
              "    }\n",
              "  "
            ],
            "text/plain": [
              "<IPython.core.display.Javascript object>"
            ]
          },
          "metadata": {},
          "output_type": "display_data"
        },
        {
          "data": {
            "application/javascript": [
              "download(\"download_d0b584ee-dca3-4811-b530-fa080d8d2ef5\", \"accuracy_alpha\", 18991)"
            ],
            "text/plain": [
              "<IPython.core.display.Javascript object>"
            ]
          },
          "metadata": {},
          "output_type": "display_data"
        }
      ],
      "source": [
        "#acc# alpha 1\n",
        "from google.colab import files\n",
        "accuracy_per_case={}\n",
        "for i,j,k in zip(acc,loss_total,[0.01,0.1,1,10,100,1000]):\n",
        "  accuracy_per_case[f'alpha={k}, clients_per_round=0.2, nbclients=20, acc']=i\n",
        "  accuracy_per_case[f'alpha={k}, clients_per_round=0.2, nbclients=20, loss']=j\n",
        "torch.save(accuracy_per_case,'accuracy_alpha')\n",
        "files.download('accuracy_alpha')"
      ]
    },
    {
      "cell_type": "code",
      "execution_count": null,
      "metadata": {
        "colab": {
          "base_uri": "https://localhost:8080/",
          "height": 282
        },
        "id": "LtzgOf3gYiUz",
        "outputId": "8836fc16-9806-464d-e14e-d4e62638f51b"
      },
      "outputs": [
        {
          "data": {
            "text/plain": [
              "[<matplotlib.lines.Line2D at 0x7f5cdb9d18d0>]"
            ]
          },
          "execution_count": 38,
          "metadata": {},
          "output_type": "execute_result"
        },
        {
          "data": {
            "image/png": "[encoded data removed]",
            "text/plain": [
              "<Figure size 432x288 with 1 Axes>"
            ]
          },
          "metadata": {},
          "output_type": "display_data"
        }
      ],
      "source": [
        "plt.plot(list(range(120)),torch.load('accuracy_alpha')['alpha=0.1, clients_per_round=0.2, nbclients=20, loss'])"
      ]
    },
    {
      "cell_type": "code",
      "execution_count": null,
      "metadata": {
        "colab": {
          "base_uri": "https://localhost:8080/",
          "height": 282
        },
        "id": "99N4AQWnYm6w",
        "outputId": "9ca9b852-017b-4982-9e2a-6559b2657504"
      },
      "outputs": [
        {
          "data": {
            "text/plain": [
              "[<matplotlib.lines.Line2D at 0x7f5cdb962890>]"
            ]
          },
          "execution_count": 39,
          "metadata": {},
          "output_type": "execute_result"
        },
        {
          "data": {
            "image/png": "[encoded data removed]",
            "text/plain": [
              "<Figure size 432x288 with 1 Axes>"
            ]
          },
          "metadata": {},
          "output_type": "display_data"
        }
      ],
      "source": [
        "plt.plot(list(range(120)),torch.load('accuracy_alpha')['alpha=10, clients_per_round=0.2, nbclients=20, loss'])"
      ]
    },
    {
      "cell_type": "code",
      "execution_count": null,
      "metadata": {
        "colab": {
          "base_uri": "https://localhost:8080/",
          "height": 283
        },
        "id": "3aQjtGT2YnLU",
        "outputId": "ef3b251d-df68-455e-ddf2-2e2ce7022ab2"
      },
      "outputs": [
        {
          "data": {
            "text/plain": [
              "[<matplotlib.lines.Line2D at 0x7f5cdb8cedd0>]"
            ]
          },
          "execution_count": 40,
          "metadata": {},
          "output_type": "execute_result"
        },
        {
          "data": {
            "image/png": "[encoded data removed]",
            "text/plain": [
              "<Figure size 432x288 with 1 Axes>"
            ]
          },
          "metadata": {},
          "output_type": "display_data"
        }
      ],
      "source": [
        "plt.plot(list(range(120)),torch.load('accuracy_alpha')['alpha=100, clients_per_round=0.2, nbclients=20, loss'])"
      ]
    },
    {
      "cell_type": "code",
      "execution_count": null,
      "metadata": {
        "colab": {
          "base_uri": "https://localhost:8080/",
          "height": 282
        },
        "id": "6Wqk_2E-ZDYc",
        "outputId": "52a4b8cd-108c-420d-db80-b6ea19eedfbc"
      },
      "outputs": [
        {
          "data": {
            "text/plain": [
              "[<matplotlib.lines.Line2D at 0x7f5cdb84c490>]"
            ]
          },
          "execution_count": 41,
          "metadata": {},
          "output_type": "execute_result"
        },
        {
          "data": {
            "image/png": "[encoded data removed]",
            "text/plain": [
              "<Figure size 432x288 with 1 Axes>"
            ]
          },
          "metadata": {},
          "output_type": "display_data"
        }
      ],
      "source": [
        "plt.plot(list(range(120)),torch.load('accuracy_alpha')['alpha=1000, clients_per_round=0.2, nbclients=20, loss'])"
      ]
    },
    {
      "cell_type": "markdown",
      "metadata": {
        "id": "85ZaYdH2rPMI"
      },
      "source": [
        "#fed_parameter variation"
      ]
    },
    {
      "cell_type": "code",
      "execution_count": null,
      "metadata": {
        "id": "CtFZr4plr6BP"
      },
      "outputs": [],
      "source": [
        "#[10,5,1,0.5,0.1,0.05]\n",
        "# for this experiments 60 rounds\n",
        "#[0.2],[0.4],[0.6],[0.8]\n",
        "#epch [1,2,5]\n",
        "from google.colab import files\n",
        "acc=[]\n",
        "loss_total=[]\n",
        "alph=100\n",
        "accuracy_per_case={}\n",
        "cl_round=[0.2,0.4,0.6,0.8]\n",
        "e=1\n",
        "for i in cl_round:\n",
        "  model,loader,z=federated_training(data,alpha=alph,clients_per_round=i,epoch=e,nbclients=20,nb_rounds=60)\n",
        "  x=test(model,loader[-1],'cuda')\n",
        "  acc.append(x)\n",
        "  loss_total.append(z)\n",
        "accuracy_per_case[1]=(acc,loss_total)\n",
        "string_a=str(e)+' '+str(cl_round)+' '+str(alph)\n",
        "torch.save(accuracy_per_case,f'accuracy_alpha_e,cl_round,alph,rounds=60{string_a}')\n",
        "files.download(f'accuracy_alpha_e,cl_round,alph,rounds=60{string_a}')"
      ]
    },
    {
      "cell_type": "markdown",
      "metadata": {
        "id": "7HyTSZhexanO"
      },
      "source": [
        "#fedir-fedprox-fedavg-fedext"
      ]
    },
    {
      "cell_type": "code",
      "execution_count": null,
      "metadata": {
        "colab": {
          "base_uri": "https://localhost:8080/"
        },
        "id": "_VkSGj7qaJSR",
        "outputId": "84c02286-b0f2-4460-a5b2-ea2237d396b0"
      },
      "outputs": [
        {
          "output_type": "stream",
          "name": "stdout",
          "text": [
            "torch.Size([2000, 3, 32, 32])\n",
            "torch.Size([2000, 3, 32, 32])\n",
            "torch.Size([2000, 3, 32, 32])\n",
            "torch.Size([2000, 3, 32, 32])\n",
            "torch.Size([2000, 3, 32, 32])\n",
            "torch.Size([2000, 3, 32, 32])\n",
            "torch.Size([2000, 3, 32, 32])\n",
            "torch.Size([2000, 3, 32, 32])\n",
            "torch.Size([2000, 3, 32, 32])\n"
          ]
        },
        {
          "output_type": "stream",
          "name": "stderr",
          "text": [
            "/usr/local/lib/python3.7/dist-packages/torch/utils/data/dataloader.py:481: UserWarning: This DataLoader will create 4 worker processes in total. Our suggested max number of worker in current system is 2, which is smaller than what this DataLoader is going to create. Please be aware that excessive worker creation might get DataLoader running slow or even freeze, lower the worker number to avoid potential slowness/freeze if necessary.\n",
            "  cpuset_checked))\n"
          ]
        },
        {
          "output_type": "stream",
          "name": "stdout",
          "text": [
            "torch.Size([2000, 3, 32, 32])\n",
            "torch.Size([2000, 3, 32, 32])\n",
            "torch.Size([2000, 3, 32, 32])\n",
            "torch.Size([2000, 3, 32, 32])\n",
            "torch.Size([2000, 3, 32, 32])\n",
            "torch.Size([2000, 3, 32, 32])\n",
            "torch.Size([2000, 3, 32, 32])\n",
            "torch.Size([2000, 3, 32, 32])\n",
            "torch.Size([2000, 3, 32, 32])\n",
            "torch.Size([2000, 3, 32, 32])\n",
            "torch.Size([2000, 3, 32, 32])\n",
            "torch.Size([10000, 3, 32, 32])\n",
            "torch.Size([1200, 3, 32, 32])\n",
            "torch.Size([1200, 3, 32, 32])\n",
            "torch.Size([1200, 3, 32, 32])\n",
            "torch.Size([1200, 3, 32, 32])\n",
            "torch.Size([1200, 3, 32, 32])\n",
            "torch.Size([1200, 3, 32, 32])\n",
            "torch.Size([1200, 3, 32, 32])\n",
            "torch.Size([1200, 3, 32, 32])\n",
            "torch.Size([1200, 3, 32, 32])\n",
            "torch.Size([1200, 3, 32, 32])\n",
            "torch.Size([1200, 3, 32, 32])\n",
            "torch.Size([1200, 3, 32, 32])\n",
            "torch.Size([1200, 3, 32, 32])\n",
            "torch.Size([1200, 3, 32, 32])\n",
            "torch.Size([1200, 3, 32, 32])\n",
            "torch.Size([1200, 3, 32, 32])\n",
            "torch.Size([1200, 3, 32, 32])\n",
            "torch.Size([1200, 3, 32, 32])\n",
            "torch.Size([1200, 3, 32, 32])\n",
            "torch.Size([1200, 3, 32, 32])\n",
            "round 0 of 1\n",
            "round 10 of 11\n"
          ]
        }
      ],
      "source": [
        "acc=[[],[],[],[]]\n",
        "loss_total=[]\n",
        "alph=0.1\n",
        "k=300\n",
        "\n",
        "model_generation={\n",
        "    'type':'gan',\n",
        "    'model':generator,\n",
        "    'Nz':100,\n",
        "    #'mean':np.zeros(128),\n",
        "    #'cov':cov_tiny_img_net,\n",
        "}\n",
        "'''\n",
        "for i in range(k):\n",
        "  model,loader,z=federated_training(data,alpha=alph,lr=0.1,clients_per_round=0.2,nbclients=20,mode='fedProx',mu=1,nb_rounds=i)\n",
        "  x=test(model,loader[-1],'cuda')\n",
        "  acc[0].append(x)\n",
        "  if i==k-1:\n",
        "    loss_total.append(z)\n",
        "\n",
        "for i in range(k):\n",
        "  model,loader,z=federated_training(data,alpha=alph,lr=0.1,clients_per_round=0.2,nbclients=20,mode='fedAvg',nb_rounds=i)\n",
        "  x=test(model,loader[-1],'cuda')\n",
        "  acc[1].append(x)\n",
        "  if i==k-1:\n",
        "    loss_total.append(z)\n",
        "    \n",
        "for i in range(k):\n",
        "  model,loader,z=federated_training(data,alpha=alph,lr=0.1,clients_per_round=0.2,nbclients=20,mode='fedir',nb_rounds=i)\n",
        "  x=test(model,loader[-1],'cuda')\n",
        "  acc[2].append(x)\n",
        "  if i==k-1:\n",
        "    loss_total.append(z)\n",
        "'''\n",
        "for i in range(k):\n",
        "  model,loader,z=federated_training(data,alpha=alph,lr=0.1,clients_per_round=0.2,nbclients=20,mode='fedExt',\n",
        "                                    generation_model=model_generation,wr=1.5,fr=0.6,nb_rounds=i,cycle=False)\n",
        "  model2=copy.deepcopy(model)\n",
        "  model2.L2.weight.data=(model2.L2.weight[:10,:])\n",
        "  model2.L2.bias.data=model2.L2.bias[:10]\n",
        "  model2.L2.out_features=10\n",
        "  x=test(model2,loader[-1],'cuda')\n",
        "  acc[3].append(x)\n",
        "  if i==k-1:\n",
        "    loss_total.append(z)"
      ]
    },
    {
      "cell_type": "code",
      "execution_count": null,
      "metadata": {
        "id": "aoXduB_YGdsR"
      },
      "outputs": [],
      "source": [
        "torch.save({'acc':acc,'loss':loss_total},\"\")"
      ]
    },
    {
      "cell_type": "code",
      "execution_count": null,
      "metadata": {
        "id": "DAOcEOoUG0eA"
      },
      "outputs": [],
      "source": [
        "plt.plot(range(199),loss_total[0],label='fedProx')\n",
        "#plt.plot(range(19),loss_total[1],label='fedAvg')\n",
        "#plt.plot(range(19),loss_total[2],label='fedIR')\n",
        "#plt.plot(range(19),loss_total[3],label='fedExt')\n",
        "plt.ylabel('acc')\n",
        "plt.legend()\n",
        "plt.figure(figsize=(2, 1), dpi=100)\n",
        "plt.savefig('acc')"
      ]
    },
    {
      "cell_type": "code",
      "execution_count": null,
      "metadata": {
        "id": "qnBaHHIQzrZE"
      },
      "outputs": [],
      "source": [
        "#plt.plot(range(20),acc[0],label='fedProx')\n",
        "#plt.plot(range(20),acc[1],label='fedAvg')\n",
        "#plt.plot(range(20),acc[2],label='fedIR')\n",
        "plt.plot(range(200),acc[3],label='fedExt')\n",
        "plt.ylabel('acc')\n",
        "plt.legend()\n",
        "plt.figure(figsize=(2, 1), dpi=100)\n",
        "plt.savefig('acc')"
      ]
    },
    {
      "cell_type": "markdown",
      "metadata": {
        "id": "ByamtNhfLXVR"
      },
      "source": [
        "#btch norm lenet"
      ]
    },
    {
      "cell_type": "markdown",
      "metadata": {
        "id": "_QwtR3eILdkr"
      },
      "source": [
        "lerning rate"
      ]
    },
    {
      "cell_type": "code",
      "execution_count": null,
      "metadata": {
        "id": "IQ4dxl3ELZrF"
      },
      "outputs": [],
      "source": [
        "learning_rates=[0.2,0.15,0.1,0.08,0.06,0.05,0.04,0.02,0.01,0.005]\n",
        "weight_decay=10**-4\n",
        "loss=nn.CrossEntropyLoss()\n",
        "results=[]\n",
        "acc_val=[]\n",
        "z=0\n",
        "for lr in learning_rates:\n",
        "  net=LeNet_BatchNorm(3,10)\n",
        "  net.to('cuda')\n",
        "\n",
        "  optimizer=torch.optim.SGD(net.parameters(),lr,weight_decay)\n",
        "  for i in range(30):\n",
        "    lo,acc=train(net,loaders[0],optimizer,loss,'cuda')\n",
        "    if(i==29):\n",
        "      z=z+1\n",
        "      results.append(f'lr= {lr}: loss= {lo}, acc= {acc}')\n",
        "      print(f'step {z} out of {len(learning_rates)}')\n",
        "  acc_val.append(test(net,loaders[1],'cuda'))\n",
        "\n",
        "torch.save({'acc_val':acc_val,'training':results},'parameter-tuning-batch-lenet')"
      ]
    },
    {
      "cell_type": "markdown",
      "metadata": {
        "id": "JXwkYjr8LfoH"
      },
      "source": [
        "centralized"
      ]
    },
    {
      "cell_type": "code",
      "execution_count": null,
      "metadata": {
        "colab": {
          "base_uri": "https://localhost:8080/",
          "height": 1000
        },
        "id": "0jwddpZ5LfRR",
        "outputId": "63be477d-2cf9-4b63-97dd-8ad93f5477a9"
      },
      "outputs": [
        {
          "output_type": "stream",
          "name": "stderr",
          "text": [
            "/usr/local/lib/python3.7/dist-packages/torch/utils/data/dataloader.py:481: UserWarning: This DataLoader will create 4 worker processes in total. Our suggested max number of worker in current system is 2, which is smaller than what this DataLoader is going to create. Please be aware that excessive worker creation might get DataLoader running slow or even freeze, lower the worker number to avoid potential slowness/freeze if necessary.\n",
            "  cpuset_checked))\n"
          ]
        },
        {
          "output_type": "stream",
          "name": "stdout",
          "text": [
            "step 0 out of 120\n",
            "step 1 out of 120\n",
            "step 2 out of 120\n",
            "step 3 out of 120\n",
            "step 4 out of 120\n",
            "step 5 out of 120\n",
            "step 6 out of 120\n",
            "step 7 out of 120\n",
            "step 8 out of 120\n",
            "step 9 out of 120\n",
            "step 10 out of 120\n",
            "step 11 out of 120\n",
            "step 12 out of 120\n",
            "step 13 out of 120\n",
            "step 14 out of 120\n",
            "step 15 out of 120\n",
            "step 16 out of 120\n",
            "step 17 out of 120\n",
            "step 18 out of 120\n",
            "step 19 out of 120\n",
            "step 20 out of 120\n",
            "step 21 out of 120\n",
            "step 22 out of 120\n",
            "step 23 out of 120\n",
            "step 24 out of 120\n",
            "step 25 out of 120\n",
            "step 26 out of 120\n",
            "step 27 out of 120\n",
            "step 28 out of 120\n",
            "step 29 out of 120\n",
            "step 30 out of 120\n",
            "step 31 out of 120\n",
            "step 32 out of 120\n",
            "step 33 out of 120\n",
            "step 34 out of 120\n",
            "step 35 out of 120\n",
            "step 36 out of 120\n",
            "step 37 out of 120\n",
            "step 38 out of 120\n",
            "step 39 out of 120\n",
            "step 40 out of 120\n",
            "step 41 out of 120\n",
            "step 42 out of 120\n",
            "step 43 out of 120\n",
            "step 44 out of 120\n",
            "step 45 out of 120\n",
            "step 46 out of 120\n",
            "step 47 out of 120\n",
            "step 48 out of 120\n",
            "step 49 out of 120\n",
            "step 50 out of 120\n",
            "step 51 out of 120\n",
            "step 52 out of 120\n",
            "step 53 out of 120\n",
            "step 54 out of 120\n",
            "step 55 out of 120\n",
            "step 56 out of 120\n",
            "step 57 out of 120\n",
            "step 58 out of 120\n",
            "step 59 out of 120\n",
            "step 60 out of 120\n",
            "step 61 out of 120\n",
            "step 62 out of 120\n",
            "step 63 out of 120\n",
            "step 64 out of 120\n",
            "step 65 out of 120\n",
            "step 66 out of 120\n",
            "step 67 out of 120\n",
            "step 68 out of 120\n",
            "step 69 out of 120\n",
            "step 70 out of 120\n",
            "step 71 out of 120\n",
            "step 72 out of 120\n",
            "step 73 out of 120\n",
            "step 74 out of 120\n",
            "step 75 out of 120\n",
            "step 76 out of 120\n",
            "step 77 out of 120\n",
            "step 78 out of 120\n",
            "step 79 out of 120\n",
            "step 80 out of 120\n",
            "step 81 out of 120\n",
            "step 82 out of 120\n",
            "step 83 out of 120\n",
            "step 84 out of 120\n",
            "step 85 out of 120\n",
            "step 86 out of 120\n",
            "step 87 out of 120\n",
            "step 88 out of 120\n",
            "step 89 out of 120\n",
            "step 90 out of 120\n",
            "step 91 out of 120\n",
            "step 92 out of 120\n",
            "step 93 out of 120\n",
            "step 94 out of 120\n",
            "step 95 out of 120\n",
            "step 96 out of 120\n",
            "step 97 out of 120\n",
            "step 98 out of 120\n",
            "step 99 out of 120\n",
            "step 100 out of 120\n",
            "step 101 out of 120\n",
            "step 102 out of 120\n",
            "step 103 out of 120\n",
            "step 104 out of 120\n",
            "step 105 out of 120\n",
            "step 106 out of 120\n",
            "step 107 out of 120\n",
            "step 108 out of 120\n",
            "step 109 out of 120\n",
            "step 110 out of 120\n",
            "step 111 out of 120\n",
            "step 112 out of 120\n",
            "step 113 out of 120\n",
            "step 114 out of 120\n",
            "step 115 out of 120\n",
            "step 116 out of 120\n",
            "step 117 out of 120\n",
            "step 118 out of 120\n",
            "step 119 out of 120\n"
          ]
        },
        {
          "output_type": "execute_result",
          "data": {
            "text/plain": [
              "<matplotlib.legend.Legend at 0x7fc29e336b90>"
            ]
          },
          "metadata": {},
          "execution_count": 23
        },
        {
          "output_type": "display_data",
          "data": {
            "text/plain": [
              "<Figure size 432x288 with 1 Axes>"
            ],
            "image/png": "[encoded data removed]"
          },
          "metadata": {
            "needs_background": "light"
          }
        }
      ],
      "source": [
        "lr=0.08\n",
        "\n",
        "net=LeNet_BatchNorm(3,10)\n",
        "net.to('cuda')\n",
        "lo,acc=[],[]\n",
        "optimizer=torch.optim.SGD(net.parameters(),lr,weight_decay)\n",
        "for i in range(120):\n",
        "  x,y=train(net,loaders[0],optimizer,loss,'cuda')\n",
        "  print(f'step {i} out of 120')\n",
        "  lo.append(x)\n",
        "  acc.append(y)\n",
        "accuracy=test(net,loaders[1],'cuda')\n",
        "plt.plot(range(120),lo,label='loss')\n",
        "plt.plot(range(120),acc,label='acc')\n",
        "plt.legend()"
      ]
    },
    {
      "cell_type": "code",
      "source": [
        "accuracy"
      ],
      "metadata": {
        "colab": {
          "base_uri": "https://localhost:8080/"
        },
        "id": "5qQdKbpdb_vX",
        "outputId": "b71d1366-2b9e-4f00-f917-bc531fd9e70d"
      },
      "execution_count": null,
      "outputs": [
        {
          "output_type": "execute_result",
          "data": {
            "text/plain": [
              "0.5325"
            ]
          },
          "metadata": {},
          "execution_count": 24
        }
      ]
    },
    {
      "cell_type": "code",
      "execution_count": null,
      "metadata": {
        "id": "MEMoZkcDP6xO"
      },
      "outputs": [],
      "source": [
        "acc=[[],[],[],[]]\n",
        "loss_total=[]\n",
        "alph=0.1\n",
        "k=200\n",
        "\n",
        "model_generation={\n",
        "    'type':'gan',\n",
        "    'model':generator,\n",
        "    'Nz':100,\n",
        "    #'mean':np.zeros(128),\n",
        "    #'cov':cov_tiny_img_net,\n",
        "}\n",
        "'''\n",
        "for i in range(k):\n",
        "  model,loader,z=federated_training(data,alpha=alph,lr=0.08,model='lenet_batchnorm',clients_per_round=0.2,nbclients=20,mode='fedProx',mu=1,nb_rounds=i)\n",
        "  x=test(model,loader[-1],'cuda')\n",
        "  acc[0].append(x)\n",
        "  if i==k-1:\n",
        "    loss_total.append(z)\n",
        "\n",
        "for i in range(k):\n",
        "  model,loader,z=federated_training(data,alpha=alph,lr=0.08,model='lenet_batchnorm',clients_per_round=0.2,nbclients=20,mode='fedAvg',nb_rounds=i)\n",
        "  x=test(model,loader[-1],'cuda')\n",
        "  acc[1].append(x)\n",
        "  if i==k-1:\n",
        "    loss_total.append(z)\n",
        "    \n",
        "for i in range(k):\n",
        "  model,loader,z=federated_training(data,alpha=alph,lr=0.08,model='lenet_batchnorm',clients_per_round=0.2,nbclients=20,mode='fedir',nb_rounds=i)\n",
        "  x=test(model,loader[-1],'cuda')\n",
        "  acc[2].append(x)\n",
        "  if i==k-1:\n",
        "    loss_total.append(z)\n",
        "'''\n",
        "for i in range(k):\n",
        "  model,loader,z=federated_training(data,alpha=alph,lr=0.08,model='lenet_batchnorm',clients_per_round=0.2,nbclients=20,mode='fedExt',\n",
        "                                    generation_model=model_generation,wr=1.5,fr=0.6,nb_rounds=i,cycle=False)\n",
        "  model2=copy.deepcopy(model)\n",
        "  model2.L2.weight.data=(model2.L2.weight[:10,:])\n",
        "  model2.L2.bias.data=model2.L2.bias[:10]\n",
        "  model2.L2.out_features=10\n",
        "  x=test(model2,loader[-1],'cuda')\n",
        "  acc[3].append(x)\n",
        "  if i==k-1:\n",
        "    loss_total.append(z)\n"
      ]
    },
    {
      "cell_type": "code",
      "execution_count": null,
      "metadata": {
        "id": "Tib6SJIqhjVc"
      },
      "outputs": [],
      "source": [
        "plt.plot(range(300),loss_total[0])"
      ]
    }
  ],
  "metadata": {
    "accelerator": "GPU",
    "colab": {
      "collapsed_sections": [
        "rOWGBkWUuCcz",
        "0xLCTM7mupQe"
      ],
      "name": "federated learning.ipynb",
      "provenance": []
    },
    "kernelspec": {
      "display_name": "Python 3",
      "name": "python3"
    },
    "language_info": {
      "name": "python"
    }
  },
  "nbformat": 4,
  "nbformat_minor": 0
}