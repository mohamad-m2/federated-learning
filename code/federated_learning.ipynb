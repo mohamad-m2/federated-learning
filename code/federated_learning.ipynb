{
  "cells": [
    {
      "cell_type": "markdown",
      "metadata": {
        "id": "5e1wcc0y6BOw"
      },
      "source": [
        "### downloading files data.py and models.py"
      ]
    },
    {
      "cell_type": "markdown",
      "source": [
        "the following cell contain only commands to install the kaggle command which we will use to download the tiny-imagenet dataset from kaggle \n",
        "\n",
        "make sure you have the kaggle.json file before running it "
      ],
      "metadata": {
        "id": "iAI4qiOssPmY"
      }
    },
    {
      "cell_type": "code",
      "execution_count": null,
      "metadata": {
        "colab": {
          "base_uri": "https://localhost:8080/"
        },
        "id": "jcFYMhZN9FI_",
        "outputId": "dfe8f8ba-08a6-40fc-b0ee-c4a6a4e580bd"
      },
      "outputs": [
        {
          "output_type": "stream",
          "name": "stdout",
          "text": [
            "Requirement already satisfied: kaggle in /usr/local/lib/python3.7/dist-packages (1.5.12)\n",
            "Requirement already satisfied: certifi in /usr/local/lib/python3.7/dist-packages (from kaggle) (2021.10.8)\n",
            "Requirement already satisfied: requests in /usr/local/lib/python3.7/dist-packages (from kaggle) (2.23.0)\n",
            "Requirement already satisfied: python-dateutil in /usr/local/lib/python3.7/dist-packages (from kaggle) (2.8.2)\n",
            "Requirement already satisfied: six>=1.10 in /usr/local/lib/python3.7/dist-packages (from kaggle) (1.15.0)\n",
            "Requirement already satisfied: tqdm in /usr/local/lib/python3.7/dist-packages (from kaggle) (4.64.0)\n",
            "Requirement already satisfied: python-slugify in /usr/local/lib/python3.7/dist-packages (from kaggle) (6.1.2)\n",
            "Requirement already satisfied: urllib3 in /usr/local/lib/python3.7/dist-packages (from kaggle) (1.24.3)\n",
            "Requirement already satisfied: text-unidecode>=1.3 in /usr/local/lib/python3.7/dist-packages (from python-slugify->kaggle) (1.3)\n",
            "Requirement already satisfied: idna<3,>=2.5 in /usr/local/lib/python3.7/dist-packages (from requests->kaggle) (2.10)\n",
            "Requirement already satisfied: chardet<4,>=3.0.2 in /usr/local/lib/python3.7/dist-packages (from requests->kaggle) (3.0.4)\n"
          ]
        }
      ],
      "source": [
        "!pip install kaggle\n",
        "!mkdir ~/.kaggle\n",
        "!cp kaggle.json ~/.kaggle/\n",
        "!chmod 600 ~/.kaggle/kaggle.json"
      ]
    },
    {
      "cell_type": "code",
      "execution_count": null,
      "metadata": {
        "id": "Nh2gR1HfhINa"
      },
      "outputs": [],
      "source": [
        "import torch\n",
        "import torchvision\n",
        "from torchvision import transforms\n",
        "import torch.optim as optim\n",
        "from torch.utils.data import DataLoader,Dataset,ConcatDataset\n",
        "import torch.nn as nn\n",
        "import os\n",
        "import numpy as np\n",
        "import matplotlib.pyplot as plt\n",
        "import copy\n",
        "import math\n",
        "from models import LeNet,LeNet_BatchNorm\n",
        "from data import read_data,prepare_data_loader,tiny_image_net,EMD\n",
        "from gan import gan\n",
        "from encoder_decoder import *\n",
        "from train import *\n",
        "from test import *"
      ]
    },
    {
      "cell_type": "markdown",
      "metadata": {
        "id": "rEpFssLI6V9V"
      },
      "source": [
        "### download data set and prepare loaders"
      ]
    },
    {
      "cell_type": "markdown",
      "source": [
        "in this cell we download the datasets.\n",
        "imagenet is only used to train the generative model in case of using a pretrained one, you can comment everything related to imagnet"
      ],
      "metadata": {
        "id": "yJpi8HnPt6Y2"
      }
    },
    {
      "cell_type": "code",
      "execution_count": null,
      "metadata": {
        "id": "kJL4MPc1iSyY"
      },
      "outputs": [],
      "source": [
        "class extend:\n",
        "  def __call__(self,sample):\n",
        "    x=sample.view((1,3,32,32))\n",
        "    return x\n",
        "\n",
        "\n",
        "class map_0_1: # this transformation is used for mapping yhe 0-255 value pixels 0-1\n",
        "  def __init__(self,map):\n",
        "    self.map=map\n",
        "  def __call__(self,sample):\n",
        "    x=sample/float(self.map)\n",
        "    return x\n",
        "\n",
        "if not os.path.isfile('/content/cifar-10-python.tar.gz'):\n",
        "  !wget https://www.cs.toronto.edu/~kriz/cifar-10-python.tar.gz\n",
        "  !tar -xf /content/cifar-10-python.tar.gz\n",
        "\n",
        "if not os.path.isfile('/content/tiny-imagenet.zip'):\n",
        "  !kaggle datasets download -d akash2sharma/tiny-imagenet\n",
        "  !unzip /content/tiny-imagenet.zip\n",
        "\n",
        "#1\n",
        "train_transform = transforms.Compose([ transforms.Normalize((0.5, 0.5, 0.5), (0.5, 0.5, 0.5))]) \n",
        "\n",
        "#2\n",
        "train_transform_map= transforms.Compose([map_0_1(255),transforms.Normalize((0.5, 0.5, 0.5), (0.5, 0.5, 0.5))])\n",
        "\n",
        "\n",
        "trans_imagenet=transforms.Compose([transforms.Resize((32,32)),transforms.ToTensor(),extend()])\n",
        "\n",
        "\n",
        "\n",
        "\n",
        "#data_imagenet=tiny_image_net('tiny-imagenet-200',trans_imagenet,0.5)\n",
        " \n",
        "data=read_data('/content/cifar-10-batches-py') #read_data retrun a list containing couples (label,sample)\n",
        "\n",
        "\n",
        "#prepare_data_loader return a set of loaders training loaders first anf the validation loader as the last element\n",
        "\n",
        "loaders=prepare_data_loader(data,train_transform_map,alpha=100,validation_fraction=0.2) # the validation set if specified will be the last element in the loader\n",
        "#loader_imagenet=prepare_data_loader(data_imagenet,train_transform)\n"
      ]
    },
    {
      "cell_type": "markdown",
      "source": [
        "### GAN"
      ],
      "metadata": {
        "id": "Bhcfy1d10jP_"
      }
    },
    {
      "cell_type": "markdown",
      "source": [
        "gan is a function from the gan.py file it takes as arguments nb of epochs, tarining loader and a set of parameters (Nz,Ndf,Ngf) that control the size of the gan model use the default values for the small gan (similar to letnet size)\n",
        "or (Nz=100,Ndf=128,Ngf=128) for the extra wide gan.\n",
        "\n",
        "it returns a gan model"
      ],
      "metadata": {
        "id": "-bDB7hTCvqcw"
      }
    },
    {
      "cell_type": "code",
      "execution_count": null,
      "metadata": {
        "colab": {
          "base_uri": "https://localhost:8080/"
        },
        "id": "aF07mdhTB-0J",
        "outputId": "51efb00b-d084-4b95-d1ed-ba78a30e4409"
      },
      "outputs": [
        {
          "output_type": "execute_result",
          "data": {
            "text/plain": [
              "<All keys matched successfully>"
            ]
          },
          "metadata": {},
          "execution_count": 8
        }
      ],
      "source": [
        "#generator=gan(400,loader_imagenet[0]) #when training \n",
        "\n",
        "# for using a pretrained gan we first need to initialize/ initiate the model then load the weights\n",
        "generator=gan(0,None)\n",
        "generator.load_state_dict(torch.load('gan_model'))"
      ]
    },
    {
      "cell_type": "markdown",
      "source": [
        "### AutoEncoder"
      ],
      "metadata": {
        "id": "egt-Qe4V0lyo"
      }
    },
    {
      "cell_type": "code",
      "execution_count": null,
      "metadata": {
        "id": "-pOMXUirLvY8"
      },
      "outputs": [],
      "source": [
        "decoder,mean_tiny_img_net,cov_tiny_img_net=train_encoder_decoder(120,loader_imagenet[0],Device='cuda') #this method work similar to the gan method abovve but it also return the mean and cov matrix of the embeded space (not a variational autoencoder)"
      ]
    },
    {
      "cell_type": "markdown",
      "source": [
        "### Display"
      ],
      "metadata": {
        "id": "7n6zeArr0p7A"
      }
    },
    {
      "cell_type": "markdown",
      "source": [
        "the cell below display an image created by the generative models alongside an image from imagenet you can just remove imagenet part if you are not intrested in it"
      ],
      "metadata": {
        "id": "NKHzoP5iyR0x"
      }
    },
    {
      "cell_type": "code",
      "execution_count": null,
      "metadata": {
        "id": "gGt3Ji9mX-Kc"
      },
      "outputs": [],
      "source": [
        "import torchvision.utils as vutils\n",
        "#z=torch.from_numpy(np.random.multivariate_normal(mean_tiny_img_net,cov_tiny_img_net).astype(np.float32))\n",
        "#decoder.train(False)\n",
        "#z=torch.normal(torch.zeros((1,128,1,1)),1)\n",
        "\n",
        "#z=z.view((1,128,1,1))\n",
        "#d3=decoder(z.to('cuda'))\n",
        "\n",
        "\n",
        "# for wide gan\n",
        "z=torch.randn(1, 100, 1, 1) \n",
        "# or z=torch.randn(1, 25, 1, 1)  for the small gan\n",
        "z=z.to('cuda')\n",
        "d3=generator(z)\n",
        "d3=d3/(d3.max())\n",
        "print(d3)\n",
        "\n",
        "d3-=d3.min()\n",
        "d3=d3/d3.max()\n",
        "plt.figure(figsize=(10,10))\n",
        "\n",
        "d5=loader_imagenet[0].dataset[27][0].to('cpu').view((1,3,32,32))\n",
        "d5=d5/(d5.max()-d5.min())\n",
        "plt.imshow(np.transpose(vutils.make_grid(torch.cat((d3[0].to('cpu').view((1,3,32,32)),\n",
        "                              d5)),\n",
        "                                padding=2 ),(1,2,0)))\n"
      ]
    },
    {
      "cell_type": "markdown",
      "metadata": {
        "id": "rOWGBkWUuCcz"
      },
      "source": [
        "#learning rate tuning"
      ]
    },
    {
      "cell_type": "markdown",
      "metadata": {
        "id": "aGOrOrds6z1X"
      },
      "source": [
        "learning rate hyperparameter tuning for 20 epochs in centralized setting"
      ]
    },
    {
      "cell_type": "code",
      "execution_count": null,
      "metadata": {
        "id": "01JThIsUn2ds"
      },
      "outputs": [],
      "source": [
        "learning_rates=[0.2,0.15,0.1,0.08,0.06,0.05,0.04,0.02,0.01,0.005]\n",
        "weight_decay=10**-4\n",
        "loss=nn.CrossEntropyLoss()\n",
        "results=[]\n",
        "acc_val=[]\n",
        "z=0\n",
        "for lr in learning_rates:\n",
        "  net=LeNet(3,10)\n",
        "  net.to('cuda')\n",
        "\n",
        "  optimizer=torch.optim.SGD(net.parameters(),lr,weight_decay)\n",
        "  for i in range(30):\n",
        "    lo,acc=train(net,loaders[0],optimizer,loss,'cuda')\n",
        "    if(i==29):\n",
        "      z=z+1\n",
        "      results.append(f'lr= {lr}: loss= {lo}, acc= {acc}')\n",
        "      print(f'step {z} out of {len(learning_rates)}')\n",
        "  acc_val.append(test(net,loaders[1],'cuda'))\n",
        "\n",
        "torch.save({'acc_val':acc_val,'training':results},'parameter-tuning')"
      ]
    },
    {
      "cell_type": "markdown",
      "metadata": {
        "id": "7EH93Cu4uH5U"
      },
      "source": [
        "#weight and loss def"
      ]
    },
    {
      "cell_type": "code",
      "execution_count": null,
      "metadata": {
        "id": "AoSKJX5_uLvQ"
      },
      "outputs": [],
      "source": [
        "weight_decay=10**-4\n",
        "loss=nn.CrossEntropyLoss()"
      ]
    },
    {
      "cell_type": "markdown",
      "metadata": {
        "id": "dhyTAbO7uNWL"
      },
      "source": [
        "#centralized"
      ]
    },
    {
      "cell_type": "markdown",
      "metadata": {
        "id": "nleUh3X67FUV"
      },
      "source": [
        "training loop for 120 epochs centralized"
      ]
    },
    {
      "cell_type": "code",
      "execution_count": null,
      "metadata": {
        "colab": {
          "base_uri": "https://localhost:8080/",
          "height": 1000
        },
        "id": "pkF-c3VyYv-e",
        "outputId": "5ebe3428-17b4-41fe-e934-91037f345d4e"
      },
      "outputs": [
        {
          "name": "stdout",
          "output_type": "stream",
          "text": [
            "torch.Size([40000, 3, 32, 32])\n",
            "torch.Size([10000, 3, 32, 32])\n"
          ]
        },
        {
          "name": "stderr",
          "output_type": "stream",
          "text": [
            "/usr/local/lib/python3.7/dist-packages/torch/utils/data/dataloader.py:481: UserWarning: This DataLoader will create 4 worker processes in total. Our suggested max number of worker in current system is 2, which is smaller than what this DataLoader is going to create. Please be aware that excessive worker creation might get DataLoader running slow or even freeze, lower the worker number to avoid potential slowness/freeze if necessary.\n",
            "  cpuset_checked))\n"
          ]
        },
        {
          "name": "stdout",
          "output_type": "stream",
          "text": [
            "step 0 out of 120\n",
            "step 1 out of 120\n",
            "step 2 out of 120\n",
            "step 3 out of 120\n",
            "step 4 out of 120\n",
            "step 5 out of 120\n",
            "step 6 out of 120\n",
            "step 7 out of 120\n",
            "step 8 out of 120\n",
            "step 9 out of 120\n",
            "step 10 out of 120\n",
            "step 11 out of 120\n",
            "step 12 out of 120\n",
            "step 13 out of 120\n",
            "step 14 out of 120\n",
            "step 15 out of 120\n",
            "step 16 out of 120\n",
            "step 17 out of 120\n",
            "step 18 out of 120\n",
            "step 19 out of 120\n",
            "step 20 out of 120\n",
            "step 21 out of 120\n",
            "step 22 out of 120\n",
            "step 23 out of 120\n",
            "step 24 out of 120\n",
            "step 25 out of 120\n",
            "step 26 out of 120\n",
            "step 27 out of 120\n",
            "step 28 out of 120\n",
            "step 29 out of 120\n",
            "step 30 out of 120\n",
            "step 31 out of 120\n",
            "step 32 out of 120\n",
            "step 33 out of 120\n",
            "step 34 out of 120\n",
            "step 35 out of 120\n",
            "step 36 out of 120\n",
            "step 37 out of 120\n",
            "step 38 out of 120\n",
            "step 39 out of 120\n",
            "step 40 out of 120\n",
            "step 41 out of 120\n",
            "step 42 out of 120\n",
            "step 43 out of 120\n",
            "step 44 out of 120\n",
            "step 45 out of 120\n",
            "step 46 out of 120\n",
            "step 47 out of 120\n",
            "step 48 out of 120\n",
            "step 49 out of 120\n",
            "step 50 out of 120\n",
            "step 51 out of 120\n",
            "step 52 out of 120\n",
            "step 53 out of 120\n",
            "step 54 out of 120\n",
            "step 55 out of 120\n",
            "step 56 out of 120\n",
            "step 57 out of 120\n",
            "step 58 out of 120\n",
            "step 59 out of 120\n",
            "step 60 out of 120\n",
            "step 61 out of 120\n",
            "step 62 out of 120\n",
            "step 63 out of 120\n",
            "step 64 out of 120\n",
            "step 65 out of 120\n",
            "step 66 out of 120\n",
            "step 67 out of 120\n",
            "step 68 out of 120\n",
            "step 69 out of 120\n",
            "step 70 out of 120\n",
            "step 71 out of 120\n",
            "step 72 out of 120\n",
            "step 73 out of 120\n",
            "step 74 out of 120\n",
            "step 75 out of 120\n",
            "step 76 out of 120\n",
            "step 77 out of 120\n",
            "step 78 out of 120\n",
            "step 79 out of 120\n",
            "step 80 out of 120\n",
            "step 81 out of 120\n",
            "step 82 out of 120\n",
            "step 83 out of 120\n",
            "step 84 out of 120\n",
            "step 85 out of 120\n",
            "step 86 out of 120\n",
            "step 87 out of 120\n",
            "step 88 out of 120\n",
            "step 89 out of 120\n",
            "step 90 out of 120\n",
            "step 91 out of 120\n",
            "step 92 out of 120\n",
            "step 93 out of 120\n",
            "step 94 out of 120\n",
            "step 95 out of 120\n",
            "step 96 out of 120\n",
            "step 97 out of 120\n",
            "step 98 out of 120\n",
            "step 99 out of 120\n",
            "step 100 out of 120\n",
            "step 101 out of 120\n",
            "step 102 out of 120\n",
            "step 103 out of 120\n",
            "step 104 out of 120\n",
            "step 105 out of 120\n",
            "step 106 out of 120\n",
            "step 107 out of 120\n",
            "step 108 out of 120\n",
            "step 109 out of 120\n",
            "step 110 out of 120\n",
            "step 111 out of 120\n",
            "step 112 out of 120\n",
            "step 113 out of 120\n",
            "step 114 out of 120\n",
            "step 115 out of 120\n",
            "step 116 out of 120\n",
            "step 117 out of 120\n",
            "step 118 out of 120\n",
            "step 119 out of 120\n"
          ]
        },
        {
          "data": {
            "text/plain": [
              "<matplotlib.legend.Legend at 0x7fc31032e590>"
            ]
          },
          "execution_count": 18,
          "metadata": {},
          "output_type": "execute_result"
        },
        {
          "data": {
            "image/png": "[encoded data removed]",
            "text/plain": [
              "<Figure size 432x288 with 1 Axes>"
            ]
          },
          "metadata": {},
          "output_type": "display_data"
        }
      ],
      "source": [
        "net=LeNet(3,10)\n",
        "net.to('cuda')\n",
        "lo,acc=[],[]\n",
        "loaders=prepare_data_loader(data,train_transform,validation_fraction=0.2)\n",
        "optimizer=torch.optim.SGD(net.parameters(),0.1,weight_decay)\n",
        "for i in range(120):\n",
        "  x,y=train(net,loaders[0],optimizer,loss,'cuda')\n",
        "  print(f'step {i} out of 120')\n",
        "  lo.append(x)\n",
        "  acc.append(y)\n",
        "accuracy=test(net,loaders[1],'cuda')\n",
        "plt.plot(range(120),lo,label='loss')\n",
        "plt.plot(range(120),acc,label='acc')\n",
        "plt.legend()"
      ]
    },
    {
      "cell_type": "code",
      "execution_count": null,
      "metadata": {
        "colab": {
          "base_uri": "https://localhost:8080/"
        },
        "id": "0REKHoysWDNR",
        "outputId": "c148feba-5a44-446c-c02b-9825719a6a5b"
      },
      "outputs": [
        {
          "data": {
            "text/plain": [
              "0.4817"
            ]
          },
          "execution_count": 19,
          "metadata": {},
          "output_type": "execute_result"
        }
      ],
      "source": [
        "accuracy"
      ]
    },
    {
      "cell_type": "markdown",
      "metadata": {
        "id": "0xLCTM7mupQe"
      },
      "source": [
        "#federated_learning"
      ]
    },
    {
      "cell_type": "markdown",
      "source": [
        "\n",
        "*   **data**: data list(label,sample)\n",
        "*   **model**: 'LeNet' for standad lenet model , else : batchnorm lenet architecture\n",
        "*   **nbclients** : the total number of clients for whom the data is distributed\n",
        "*   **alpha**: controls heteroginity level 0.01-> max heteroginity , 1000+ for homogenous data\n",
        "*   **lr**: learning rate\n",
        "*   **epoch**: nb of local epochs performed at the client side between rounds\n",
        "*   **clients_per_round**: the fraction of clients choosed at each round to perform training\n",
        "*   **val_fraction**: validation fraction control the amount of data used for the validation phase\n",
        "*   **transform**: the transfromation functions performed on the data whole creating the loaders\n",
        "*    **nb_rounds**: the number of rounds for which the model is trained\n",
        "*    **mu**: the hyperparameter used to control the contibution of fedprox regularization term ( if fedprox is not used you can ignore it\n",
        "*   **wr**: the hyperparamter used to control the contribution of misclassifying a random/noise/unkown sample generated by the generative model used only with FedExt (the random/unkown loss weight)\n",
        "*   **fr**: a hyperparameter used to control the fraction of random samples generated by (generative model) also used with FedExt ( the fraction is propotionel to the data present at the client side for exaple if each client has 2000 training samples and fr=0.4 => 800 random samples will be generated for that client)\n",
        "*   **cycle**: a hyperparameter controlling if we want to reuse the generated random sample for each client at each round or we want to generate new samples each round  (with FedExt). it is better to set it to false since it is computationaly expensinve to cycle the random samples each round and there is no much gain in term of accuracy\n",
        "*   **mode**: 4 possible modes => fedExt / fedAvg / fedProx / fedIR\n",
        "*  **generation_model**: a dictinary containing the generative model with some extra information : type {gan,autoencoder} ,model, Nz for gan {100 for the wide gan and 25 for the samll one} , in case of using the autoencoder add mean and covariance\n",
        "\n",
        "\n",
        "\n",
        "```\n",
        "example : model_generation={\n",
        "    'type':'gan',\n",
        "    'model':generator,\n",
        "    'Nz':25,\n",
        "    #'mean':np.zeros(128),\n",
        "    #'cov':cov_tiny_img_net,\n",
        "}\n",
        "```\n",
        "\n"
      ],
      "metadata": {
        "id": "erd074HM4Swv"
      }
    },
    {
      "cell_type": "code",
      "execution_count": null,
      "metadata": {
        "id": "1p3I-lG59L-3"
      },
      "outputs": [],
      "source": [
        "\n",
        "\n",
        "def federated_training(data,model='LeNet',nbclients=20,alpha=10000,lr=0.1,epoch=1,clients_per_round=0.2,val_fraction=0.2,\n",
        "                       transform=train_transform,nb_rounds=120,mu=0.1,wr=1,fr=0.5,cycle=True,mode='fedAvg',generation_model=None):\n",
        "  \n",
        "\n",
        "  NbClients=nbclients # data distributed over 20 clients\n",
        "  Alpha=alpha # iid condition \n",
        "  NbClientsPerRound=clients_per_round # fraction of clients unfiformly choosen at each round\n",
        "  E=epoch # local epoch\n",
        "  Lr=lr # learning rate\n",
        "  TotalRounds=nb_rounds\n",
        "\n",
        "\n",
        "  if(mode=='fedExt'):\n",
        "    nb_out=11\n",
        "  else:\n",
        "    nb_out=10\n",
        "\n",
        "  loss_total=[]\n",
        "\n",
        "  if model=='LeNet':\n",
        "    server_model=LeNet(3,nb_out)\n",
        "    client_models=[LeNet(3,nb_out) for i in range(NbClients)]\n",
        "  else:\n",
        "    server_model=LeNet_BatchNorm(3,nb_out)\n",
        "    client_models=[LeNet_BatchNorm(3,nb_out) for i in range(NbClients)]\n",
        "\n",
        "  mock_string=mode if mode=='fedAvg' else mode+' '+str(mu)\n",
        "  file=f'/content/{model}_federated_{mock_string}_param_{epoch}_{Alpha}_{NbClientsPerRound}_{lr}' # to save and load the state of the model after each round in case of failure , mark that saving which round and the loaders is also necessary\n",
        "\n",
        "  if not os.path.isfile(file):\n",
        "    loaders=prepare_data_loader(data,transform,validation_fraction=val_fraction,centralized=False,nb_clients=NbClients,alpha=Alpha)\n",
        "    if(cycle==False and mode=='fedExt'):\n",
        "      for j in range(len(loaders[:-1])):\n",
        "        loaders[j]=copy.deepcopy(mix_generate(loaders[j],fr,generation_model))\n",
        "    len_loaders=[len(i.dataset) for i in loaders]\n",
        "    \n",
        "    checkpoint={'round': 0, 'server_model': server_model.state_dict(), 'loaders': (loaders,len_loaders),'loss':loss_total}\n",
        "    torch.save(checkpoint,file)\n",
        "\n",
        "  checkpoint=copy.deepcopy(torch.load(file)) # load the previous weights or states in case of internet connection /session  problem continue from last round\n",
        "  server_model.load_state_dict(checkpoint['server_model'])\n",
        "  server_model.to('cuda')\n",
        "  loaders,len_loaders=checkpoint['loaders']\n",
        "  loss_total=copy.deepcopy(checkpoint['loss'])\n",
        "  ###\n",
        "  p=[0]*10\n",
        "  for i,j in loaders[-1]:\n",
        "    for k in j:\n",
        "      p[k]+=1\n",
        "  p=np.array(p)\n",
        "  p=p/p.sum()\n",
        "  ####\n",
        "  for model in client_models:\n",
        "    model.load_state_dict(checkpoint['server_model'])\n",
        "\n",
        "  for Round in range(checkpoint['round'],TotalRounds): # begining of federated training\n",
        "    \n",
        "    choosen_indexes=np.random.choice(list(range(len(client_models))),round(NbClients*NbClientsPerRound)) # randomly choose clients to participate in this training round\n",
        "    choosen_models=[client_models[i] for i in choosen_indexes]\n",
        "    choosen_loaders=[loaders[i] for i in choosen_indexes]\n",
        "    choosen_weights=np.array([len_loaders[i] for i in choosen_indexes])\n",
        "    choosen_weights=choosen_weights/choosen_weights.sum() # weighting client depending on ni/n (ni nb samples the client have/ n total nb of sample in this round)\n",
        "    client_optimizers=[optim.SGD(model.parameters(),Lr,weight_decay) for model in choosen_models] #initialize optimizers (needed because oof the communication step maybe where clients model get the agggregated serever one maybe ???)\n",
        "    \n",
        "    loss_models=[]\n",
        "    for i,model in enumerate(choosen_models):\n",
        "      for epoch in range(E):\n",
        "        if(mode=='fedAvg'):\n",
        "          c,_=train(model,choosen_loaders[i],client_optimizers[i],loss,'cuda')\n",
        "        else:\n",
        "          if(mode=='fedProx'):\n",
        "            c,_=train_fedprox(server_model,model,choosen_loaders[i],client_optimizers[i],loss,mu,'cuda')\n",
        "          else:\n",
        "            if(mode=='fedExt'):\n",
        "              c,_=train_EXT(model,choosen_loaders[i],client_optimizers[i],wr,fr,'cuda',generation_model,cycle)\n",
        "            else:\n",
        "              c,_=train_IR(model,choosen_loaders[i],client_optimizers[i],loss,p,'cuda')\n",
        "        if(epoch==E-1):\n",
        "          loss_models.append(c)\n",
        "    loss_models=np.array(loss_models).mean()\n",
        "    loss_total.append(loss_models)\n",
        "\n",
        "\n",
        "    avg_weights=communication(server_model,choosen_models,choosen_weights,len(choosen_indexes))\n",
        "    checkpoint['server_model']=copy.deepcopy(avg_weights)\n",
        "    checkpoint['round']=Round+1\n",
        "    checkpoint['loss']=loss_total\n",
        "    torch.save(checkpoint,file)\n",
        "\n",
        "    for model in client_models:# update all models with the new weights\n",
        "      model.load_state_dict(checkpoint['server_model'])\n",
        "    server_model.load_state_dict(checkpoint['server_model'])\n",
        "    if(Round%10==0):\n",
        "      print(f'round {Round} of {TotalRounds}')\n",
        "  return server_model,loaders,loss_total\n"
      ]
    },
    {
      "cell_type": "markdown",
      "metadata": {
        "id": "Mm_OiNI1vJFe"
      },
      "source": [
        "#fedavg experiments"
      ]
    },
    {
      "cell_type": "markdown",
      "source": [
        "studying fedavg algorithm with different client data distributions setup"
      ],
      "metadata": {
        "id": "xdDdBgUhzXi5"
      }
    },
    {
      "cell_type": "code",
      "execution_count": null,
      "metadata": {
        "id": "B_p2-EMIjzK7"
      },
      "outputs": [],
      "source": [
        "acc=[]\n",
        "loss_total=[]\n",
        "for i in [0.01,0.1,1,10,100,1000]:\n",
        "  model,loader,z=federated_training(data,alpha=i,clients_per_round=0.2,nbclients=20,nb_rounds=120)\n",
        "  x=test(model,loader[-1],'cuda')\n",
        "  acc.append(x)\n",
        "  loss_total.append(z)"
      ]
    },
    {
      "cell_type": "markdown",
      "source": [
        "the cell below is used to save the result in a checkpoint and dowloaded it locally"
      ],
      "metadata": {
        "id": "oOT3GnHRzP-X"
      }
    },
    {
      "cell_type": "code",
      "execution_count": null,
      "metadata": {
        "colab": {
          "base_uri": "https://localhost:8080/",
          "height": 17
        },
        "id": "_dfDP-A3zKRN",
        "outputId": "c37ae49d-2508-4f1c-8096-7e75516ac216"
      },
      "outputs": [
        {
          "data": {
            "application/javascript": [
              "\n",
              "    async function download(id, filename, size) {\n",
              "      if (!google.colab.kernel.accessAllowed) {\n",
              "        return;\n",
              "      }\n",
              "      const div = document.createElement('div');\n",
              "      const label = document.createElement('label');\n",
              "      label.textContent = `Downloading \"${filename}\": `;\n",
              "      div.appendChild(label);\n",
              "      const progress = document.createElement('progress');\n",
              "      progress.max = size;\n",
              "      div.appendChild(progress);\n",
              "      document.body.appendChild(div);\n",
              "\n",
              "      const buffers = [];\n",
              "      let downloaded = 0;\n",
              "\n",
              "      const channel = await google.colab.kernel.comms.open(id);\n",
              "      // Send a message to notify the kernel that we're ready.\n",
              "      channel.send({})\n",
              "\n",
              "      for await (const message of channel.messages) {\n",
              "        // Send a message to notify the kernel that we're ready.\n",
              "        channel.send({})\n",
              "        if (message.buffers) {\n",
              "          for (const buffer of message.buffers) {\n",
              "            buffers.push(buffer);\n",
              "            downloaded += buffer.byteLength;\n",
              "            progress.value = downloaded;\n",
              "          }\n",
              "        }\n",
              "      }\n",
              "      const blob = new Blob(buffers, {type: 'application/binary'});\n",
              "      const a = document.createElement('a');\n",
              "      a.href = window.URL.createObjectURL(blob);\n",
              "      a.download = filename;\n",
              "      div.appendChild(a);\n",
              "      a.click();\n",
              "      div.remove();\n",
              "    }\n",
              "  "
            ],
            "text/plain": [
              "<IPython.core.display.Javascript object>"
            ]
          },
          "metadata": {},
          "output_type": "display_data"
        },
        {
          "data": {
            "application/javascript": [
              "download(\"download_6d1ab55d-2978-4a4d-875f-ade53bfead06\", \"accuracy_alpha\", 431)"
            ],
            "text/plain": [
              "<IPython.core.display.Javascript object>"
            ]
          },
          "metadata": {},
          "output_type": "display_data"
        }
      ],
      "source": [
        "#acc# alpha 1\n",
        "from google.colab import files\n",
        "accuracy_per_case={}\n",
        "for i,j,k in zip(acc,loss_total,[0.01,0.1,1,10,100,1000]):\n",
        "  accuracy_per_case[f'alpha={k}, clients_per_round=0.2, nbclients=20, acc']=i\n",
        "  accuracy_per_case[f'alpha={k}, clients_per_round=0.2, nbclients=20, loss']=j\n",
        "torch.save(accuracy_per_case,'accuracy_alpha')\n",
        "files.download('accuracy_alpha')"
      ]
    },
    {
      "cell_type": "code",
      "execution_count": null,
      "metadata": {
        "id": "LtzgOf3gYiUz"
      },
      "outputs": [],
      "source": [
        "plt.plot(list(range(120)),torch.load('accuracy_alpha')['alpha=0.1, clients_per_round=0.2, nbclients=20, loss'])"
      ]
    },
    {
      "cell_type": "code",
      "execution_count": null,
      "metadata": {
        "id": "99N4AQWnYm6w"
      },
      "outputs": [],
      "source": [
        "plt.plot(list(range(120)),torch.load('accuracy_alpha')['alpha=10, clients_per_round=0.2, nbclients=20, loss'])"
      ]
    },
    {
      "cell_type": "code",
      "execution_count": null,
      "metadata": {
        "id": "3aQjtGT2YnLU"
      },
      "outputs": [],
      "source": [
        "plt.plot(list(range(120)),torch.load('accuracy_alpha')['alpha=100, clients_per_round=0.2, nbclients=20, loss'])"
      ]
    },
    {
      "cell_type": "code",
      "execution_count": null,
      "metadata": {
        "id": "6Wqk_2E-ZDYc"
      },
      "outputs": [],
      "source": [
        "plt.plot(list(range(120)),torch.load('accuracy_alpha')['alpha=1000, clients_per_round=0.2, nbclients=20, loss'])"
      ]
    },
    {
      "cell_type": "markdown",
      "metadata": {
        "id": "85ZaYdH2rPMI"
      },
      "source": [
        "#fed_parameter variation"
      ]
    },
    {
      "cell_type": "markdown",
      "source": [
        "varying the hyperparameters local epoch E and fraction of clients per round and study their influence with different alpha \n",
        "\n",
        "note : in the experiments done here i did fix one of the hyperparameter while changing the other since studying all the cases is time consuming"
      ],
      "metadata": {
        "id": "Y4lX5r5qzsj8"
      }
    },
    {
      "cell_type": "code",
      "execution_count": null,
      "metadata": {
        "id": "CtFZr4plr6BP"
      },
      "outputs": [],
      "source": [
        "#[10,5,1,0.5,0.1,0.05]\n",
        "# for this experiments 60 rounds\n",
        "#[0.2],[0.4],[0.6],[0.8]\n",
        "#epch [1,2,5]\n",
        "from google.colab import files\n",
        "acc=[]\n",
        "loss_total=[]\n",
        "alph=100\n",
        "accuracy_per_case={}\n",
        "cl_round=[0.2,0.4,0.6,0.8]\n",
        "e=1\n",
        "for i in cl_round:\n",
        "  model,loader,z=federated_training(data,alpha=alph,clients_per_round=i,epoch=e,nbclients=20,nb_rounds=60)\n",
        "  x=test(model,loader[-1],'cuda')\n",
        "  acc.append(x)\n",
        "  loss_total.append(z)\n",
        "accuracy_per_case[1]=(acc,loss_total)\n",
        "string_a=str(e)+' '+str(cl_round)+' '+str(alph)\n",
        "torch.save(accuracy_per_case,f'accuracy_alpha_e,cl_round,alph,rounds=60{string_a}')\n",
        "files.download(f'accuracy_alpha_e,cl_round,alph,rounds=60{string_a}')"
      ]
    },
    {
      "cell_type": "markdown",
      "metadata": {
        "id": "7HyTSZhexanO"
      },
      "source": [
        "#fedir-fedprox-fedavg-fedext"
      ]
    },
    {
      "cell_type": "code",
      "execution_count": null,
      "metadata": {
        "id": "_VkSGj7qaJSR"
      },
      "outputs": [],
      "source": [
        "acc=[[],[],[],[]]\n",
        "loss_total=[]\n",
        "alph=0.01\n",
        "k=300\n",
        "\n",
        "model_generation={\n",
        "    'type':'gan',\n",
        "    'model':generator,\n",
        "    'Nz':25,\n",
        "    #'mean':np.zeros(128),\n",
        "    #'cov':cov_tiny_img_net,\n",
        "}\n",
        "\n",
        "for i in range(k):\n",
        "  model,loader,z=federated_training(data,alpha=alph,lr=0.1,clients_per_round=0.2,nbclients=20,mode='fedProx',mu=1,nb_rounds=i)\n",
        "  x=test(model,loader[-1],'cuda')\n",
        "  acc[0].append(x)\n",
        "  if i==k-1:\n",
        "    loss_total.append(z)\n",
        "\n",
        "for i in range(k):\n",
        "  model,loader,z=federated_training(data,alpha=alph,lr=0.1,clients_per_round=0.2,nbclients=20,mode='fedAvg',nb_rounds=i)\n",
        "  x=test(model,loader[-1],'cuda')\n",
        "  acc[1].append(x)\n",
        "  if i==k-1:\n",
        "    loss_total.append(z)\n",
        "    \n",
        "for i in range(k):\n",
        "  model,loader,z=federated_training(data,alpha=alph,lr=0.1,clients_per_round=0.2,nbclients=20,mode='fedir',nb_rounds=i)\n",
        "  x=test(model,loader[-1],'cuda')\n",
        "  acc[2].append(x)\n",
        "  if i==k-1:\n",
        "    loss_total.append(z)\n",
        "\n",
        "for i in range(k):\n",
        "  model,loader,z=federated_training(data,alpha=alph,lr=0.1,clients_per_round=0.2,nbclients=20,mode='fedExt',\n",
        "                                    generation_model=model_generation,wr=1.5,fr=0.6,nb_rounds=i,cycle=False)\n",
        "  model2=copy.deepcopy(model)\n",
        "  model2.L2.weight.data=(model2.L2.weight[:10,:])\n",
        "  model2.L2.bias.data=model2.L2.bias[:10]\n",
        "  model2.L2.out_features=10\n",
        "  x=test(model2,loader[-1],'cuda')\n",
        "  acc[3].append(x)\n",
        "  if i==k-1:\n",
        "    loss_total.append(z)"
      ]
    },
    {
      "cell_type": "code",
      "execution_count": null,
      "metadata": {
        "colab": {
          "background_save": true
        },
        "id": "aoXduB_YGdsR"
      },
      "outputs": [],
      "source": [
        "torch.save({'acc':acc,'loss':loss_total},\"small_gan_map01_alpha001_wr1fr0.2\")"
      ]
    },
    {
      "cell_type": "code",
      "execution_count": null,
      "metadata": {
        "colab": {
          "base_uri": "https://localhost:8080/",
          "height": 282
        },
        "id": "DAOcEOoUG0eA",
        "outputId": "243519aa-120e-4b13-ddc0-3babf964d4e8"
      },
      "outputs": [
        {
          "output_type": "display_data",
          "data": {
            "text/plain": [
              "<Figure size 432x288 with 1 Axes>"
            ],
            "image/png": "[encoded data removed]"
          },
          "metadata": {
            "needs_background": "light"
          }
        },
        {
          "output_type": "display_data",
          "data": {
            "text/plain": [
              "<Figure size 200x100 with 0 Axes>"
            ]
          },
          "metadata": {}
        }
      ],
      "source": [
        "plt.plot(range(299),loss_total[0],label='fedProx')\n",
        "#plt.plot(range(19),loss_total[1],label='fedAvg')\n",
        "#plt.plot(range(19),loss_total[2],label='fedIR')\n",
        "#plt.plot(range(19),loss_total[3],label='fedExt')\n",
        "plt.ylabel('acc')\n",
        "plt.legend()\n",
        "plt.figure(figsize=(2, 1), dpi=100)\n",
        "plt.savefig('acc')"
      ]
    },
    {
      "cell_type": "code",
      "execution_count": null,
      "metadata": {
        "colab": {
          "base_uri": "https://localhost:8080/",
          "height": 282
        },
        "id": "qnBaHHIQzrZE",
        "outputId": "372f031e-0b71-4622-fbb9-5176cb387cfe"
      },
      "outputs": [
        {
          "output_type": "display_data",
          "data": {
            "text/plain": [
              "<Figure size 432x288 with 1 Axes>"
            ],
            "image/png": "[encoded data removed]"
          },
          "metadata": {
            "needs_background": "light"
          }
        },
        {
          "output_type": "display_data",
          "data": {
            "text/plain": [
              "<Figure size 200x100 with 0 Axes>"
            ]
          },
          "metadata": {}
        }
      ],
      "source": [
        "#plt.plot(range(20),acc[0],label='fedProx')\n",
        "#plt.plot(range(20),acc[1],label='fedAvg')\n",
        "#plt.plot(range(20),acc[2],label='fedIR')\n",
        "plt.plot(range(300),acc[3],label='fedExt')\n",
        "plt.ylabel('acc')\n",
        "plt.legend()\n",
        "plt.figure(figsize=(2, 1), dpi=100)\n",
        "plt.savefig('acc')"
      ]
    },
    {
      "cell_type": "markdown",
      "metadata": {
        "id": "ByamtNhfLXVR"
      },
      "source": [
        "#btch norm lenet"
      ]
    },
    {
      "cell_type": "markdown",
      "metadata": {
        "id": "_QwtR3eILdkr"
      },
      "source": [
        "lerning rate"
      ]
    },
    {
      "cell_type": "code",
      "execution_count": null,
      "metadata": {
        "id": "IQ4dxl3ELZrF"
      },
      "outputs": [],
      "source": [
        "learning_rates=[0.2,0.15,0.1,0.08,0.06,0.05,0.04,0.02,0.01,0.005]\n",
        "weight_decay=10**-4\n",
        "loss=nn.CrossEntropyLoss()\n",
        "results=[]\n",
        "acc_val=[]\n",
        "z=0\n",
        "for lr in learning_rates:\n",
        "  net=LeNet_BatchNorm(3,10)\n",
        "  net.to('cuda')\n",
        "\n",
        "  optimizer=torch.optim.SGD(net.parameters(),lr,weight_decay)\n",
        "  for i in range(30):\n",
        "    lo,acc=train(net,loaders[0],optimizer,loss,'cuda')\n",
        "    if(i==29):\n",
        "      z=z+1\n",
        "      results.append(f'lr= {lr}: loss= {lo}, acc= {acc}')\n",
        "      print(f'step {z} out of {len(learning_rates)}')\n",
        "  acc_val.append(test(net,loaders[1],'cuda'))\n",
        "\n",
        "torch.save({'acc_val':acc_val,'training':results},'parameter-tuning-batch-lenet')"
      ]
    },
    {
      "cell_type": "markdown",
      "metadata": {
        "id": "JXwkYjr8LfoH"
      },
      "source": [
        "centralized"
      ]
    },
    {
      "cell_type": "code",
      "execution_count": null,
      "metadata": {
        "colab": {
          "base_uri": "https://localhost:8080/",
          "height": 1000
        },
        "id": "0jwddpZ5LfRR",
        "outputId": "63be477d-2cf9-4b63-97dd-8ad93f5477a9"
      },
      "outputs": [
        {
          "name": "stderr",
          "output_type": "stream",
          "text": [
            "/usr/local/lib/python3.7/dist-packages/torch/utils/data/dataloader.py:481: UserWarning: This DataLoader will create 4 worker processes in total. Our suggested max number of worker in current system is 2, which is smaller than what this DataLoader is going to create. Please be aware that excessive worker creation might get DataLoader running slow or even freeze, lower the worker number to avoid potential slowness/freeze if necessary.\n",
            "  cpuset_checked))\n"
          ]
        },
        {
          "name": "stdout",
          "output_type": "stream",
          "text": [
            "step 0 out of 120\n",
            "step 1 out of 120\n",
            "step 2 out of 120\n",
            "step 3 out of 120\n",
            "step 4 out of 120\n",
            "step 5 out of 120\n",
            "step 6 out of 120\n",
            "step 7 out of 120\n",
            "step 8 out of 120\n",
            "step 9 out of 120\n",
            "step 10 out of 120\n",
            "step 11 out of 120\n",
            "step 12 out of 120\n",
            "step 13 out of 120\n",
            "step 14 out of 120\n",
            "step 15 out of 120\n",
            "step 16 out of 120\n",
            "step 17 out of 120\n",
            "step 18 out of 120\n",
            "step 19 out of 120\n",
            "step 20 out of 120\n",
            "step 21 out of 120\n",
            "step 22 out of 120\n",
            "step 23 out of 120\n",
            "step 24 out of 120\n",
            "step 25 out of 120\n",
            "step 26 out of 120\n",
            "step 27 out of 120\n",
            "step 28 out of 120\n",
            "step 29 out of 120\n",
            "step 30 out of 120\n",
            "step 31 out of 120\n",
            "step 32 out of 120\n",
            "step 33 out of 120\n",
            "step 34 out of 120\n",
            "step 35 out of 120\n",
            "step 36 out of 120\n",
            "step 37 out of 120\n",
            "step 38 out of 120\n",
            "step 39 out of 120\n",
            "step 40 out of 120\n",
            "step 41 out of 120\n",
            "step 42 out of 120\n",
            "step 43 out of 120\n",
            "step 44 out of 120\n",
            "step 45 out of 120\n",
            "step 46 out of 120\n",
            "step 47 out of 120\n",
            "step 48 out of 120\n",
            "step 49 out of 120\n",
            "step 50 out of 120\n",
            "step 51 out of 120\n",
            "step 52 out of 120\n",
            "step 53 out of 120\n",
            "step 54 out of 120\n",
            "step 55 out of 120\n",
            "step 56 out of 120\n",
            "step 57 out of 120\n",
            "step 58 out of 120\n",
            "step 59 out of 120\n",
            "step 60 out of 120\n",
            "step 61 out of 120\n",
            "step 62 out of 120\n",
            "step 63 out of 120\n",
            "step 64 out of 120\n",
            "step 65 out of 120\n",
            "step 66 out of 120\n",
            "step 67 out of 120\n",
            "step 68 out of 120\n",
            "step 69 out of 120\n",
            "step 70 out of 120\n",
            "step 71 out of 120\n",
            "step 72 out of 120\n",
            "step 73 out of 120\n",
            "step 74 out of 120\n",
            "step 75 out of 120\n",
            "step 76 out of 120\n",
            "step 77 out of 120\n",
            "step 78 out of 120\n",
            "step 79 out of 120\n",
            "step 80 out of 120\n",
            "step 81 out of 120\n",
            "step 82 out of 120\n",
            "step 83 out of 120\n",
            "step 84 out of 120\n",
            "step 85 out of 120\n",
            "step 86 out of 120\n",
            "step 87 out of 120\n",
            "step 88 out of 120\n",
            "step 89 out of 120\n",
            "step 90 out of 120\n",
            "step 91 out of 120\n",
            "step 92 out of 120\n",
            "step 93 out of 120\n",
            "step 94 out of 120\n",
            "step 95 out of 120\n",
            "step 96 out of 120\n",
            "step 97 out of 120\n",
            "step 98 out of 120\n",
            "step 99 out of 120\n",
            "step 100 out of 120\n",
            "step 101 out of 120\n",
            "step 102 out of 120\n",
            "step 103 out of 120\n",
            "step 104 out of 120\n",
            "step 105 out of 120\n",
            "step 106 out of 120\n",
            "step 107 out of 120\n",
            "step 108 out of 120\n",
            "step 109 out of 120\n",
            "step 110 out of 120\n",
            "step 111 out of 120\n",
            "step 112 out of 120\n",
            "step 113 out of 120\n",
            "step 114 out of 120\n",
            "step 115 out of 120\n",
            "step 116 out of 120\n",
            "step 117 out of 120\n",
            "step 118 out of 120\n",
            "step 119 out of 120\n"
          ]
        },
        {
          "data": {
            "text/plain": [
              "<matplotlib.legend.Legend at 0x7fc29e336b90>"
            ]
          },
          "execution_count": 23,
          "metadata": {},
          "output_type": "execute_result"
        },
        {
          "data": {
            "image/png": "[encoded data removed]",
            "text/plain": [
              "<Figure size 432x288 with 1 Axes>"
            ]
          },
          "metadata": {},
          "output_type": "display_data"
        }
      ],
      "source": [
        "lr=0.08\n",
        "\n",
        "net=LeNet_BatchNorm(3,10)\n",
        "net.to('cuda')\n",
        "lo,acc=[],[]\n",
        "optimizer=torch.optim.SGD(net.parameters(),lr,weight_decay)\n",
        "for i in range(120):\n",
        "  x,y=train(net,loaders[0],optimizer,loss,'cuda')\n",
        "  print(f'step {i} out of 120')\n",
        "  lo.append(x)\n",
        "  acc.append(y)\n",
        "accuracy=test(net,loaders[1],'cuda')\n",
        "plt.plot(range(120),lo,label='loss')\n",
        "plt.plot(range(120),acc,label='acc')\n",
        "plt.legend()"
      ]
    },
    {
      "cell_type": "code",
      "execution_count": null,
      "metadata": {
        "colab": {
          "base_uri": "https://localhost:8080/"
        },
        "id": "5qQdKbpdb_vX",
        "outputId": "b71d1366-2b9e-4f00-f917-bc531fd9e70d"
      },
      "outputs": [
        {
          "data": {
            "text/plain": [
              "0.5325"
            ]
          },
          "execution_count": 24,
          "metadata": {},
          "output_type": "execute_result"
        }
      ],
      "source": [
        "accuracy"
      ]
    },
    {
      "cell_type": "code",
      "execution_count": null,
      "metadata": {
        "id": "MEMoZkcDP6xO"
      },
      "outputs": [],
      "source": [
        "acc=[[],[],[],[]]\n",
        "loss_total=[]\n",
        "alph=0.1\n",
        "k=200\n",
        "\n",
        "model_generation={\n",
        "    'type':'gan',\n",
        "    'model':generator,\n",
        "    'Nz':100,\n",
        "    #'mean':np.zeros(128),\n",
        "    #'cov':cov_tiny_img_net,\n",
        "}\n",
        "'''\n",
        "for i in range(k):\n",
        "  model,loader,z=federated_training(data,alpha=alph,lr=0.08,model='lenet_batchnorm',clients_per_round=0.2,nbclients=20,mode='fedProx',mu=1,nb_rounds=i)\n",
        "  x=test(model,loader[-1],'cuda')\n",
        "  acc[0].append(x)\n",
        "  if i==k-1:\n",
        "    loss_total.append(z)\n",
        "\n",
        "for i in range(k):\n",
        "  model,loader,z=federated_training(data,alpha=alph,lr=0.08,model='lenet_batchnorm',clients_per_round=0.2,nbclients=20,mode='fedAvg',nb_rounds=i)\n",
        "  x=test(model,loader[-1],'cuda')\n",
        "  acc[1].append(x)\n",
        "  if i==k-1:\n",
        "    loss_total.append(z)\n",
        "    \n",
        "for i in range(k):\n",
        "  model,loader,z=federated_training(data,alpha=alph,lr=0.08,model='lenet_batchnorm',clients_per_round=0.2,nbclients=20,mode='fedir',nb_rounds=i)\n",
        "  x=test(model,loader[-1],'cuda')\n",
        "  acc[2].append(x)\n",
        "  if i==k-1:\n",
        "    loss_total.append(z)\n",
        "'''\n",
        "for i in range(k):\n",
        "  model,loader,z=federated_training(data,alpha=alph,lr=0.08,model='lenet_batchnorm',clients_per_round=0.2,nbclients=20,mode='fedExt',\n",
        "                                    generation_model=model_generation,wr=1.5,fr=0.6,nb_rounds=i,cycle=False)\n",
        "  model2=copy.deepcopy(model)\n",
        "  model2.L2.weight.data=(model2.L2.weight[:10,:])\n",
        "  model2.L2.bias.data=model2.L2.bias[:10]\n",
        "  model2.L2.out_features=10\n",
        "  x=test(model2,loader[-1],'cuda')\n",
        "  acc[3].append(x)\n",
        "  if i==k-1:\n",
        "    loss_total.append(z)\n"
      ]
    },
    {
      "cell_type": "code",
      "execution_count": null,
      "metadata": {
        "id": "Tib6SJIqhjVc"
      },
      "outputs": [],
      "source": [
        "plt.plot(range(300),loss_total[0])"
      ]
    }
  ],
  "metadata": {
    "accelerator": "GPU",
    "colab": {
      "collapsed_sections": [
        "5e1wcc0y6BOw",
        "rEpFssLI6V9V",
        "Bhcfy1d10jP_",
        "egt-Qe4V0lyo",
        "7n6zeArr0p7A",
        "rOWGBkWUuCcz",
        "7EH93Cu4uH5U",
        "dhyTAbO7uNWL",
        "Mm_OiNI1vJFe",
        "85ZaYdH2rPMI",
        "ByamtNhfLXVR"
      ],
      "name": "federated learning.ipynb",
      "provenance": []
    },
    "kernelspec": {
      "display_name": "Python 3",
      "name": "python3"
    },
    "language_info": {
      "name": "python"
    }
  },
  "nbformat": 4,
  "nbformat_minor": 0
}