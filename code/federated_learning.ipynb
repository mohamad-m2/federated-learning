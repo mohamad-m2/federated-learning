{
  "cells": [
    {
      "cell_type": "markdown",
      "metadata": {
        "id": "5e1wcc0y6BOw"
      },
      "source": [
        "### downloading files data.py and models.py"
      ]
    },
    {
      "cell_type": "markdown",
      "metadata": {
        "id": "iAI4qiOssPmY"
      },
      "source": [
        "the following cell contain only commands to install the kaggle command which we will use to download the tiny-imagenet dataset from kaggle \n",
        "\n",
        "make sure you have the kaggle.json file before running it "
      ]
    },
    {
      "cell_type": "code",
      "execution_count": null,
      "metadata": {
        "id": "jcFYMhZN9FI_"
      },
      "outputs": [],
      "source": [
        "!pip install kaggle\n",
        "!mkdir ~/.kaggle\n",
        "!cp kaggle.json ~/.kaggle/\n",
        "!chmod 600 ~/.kaggle/kaggle.json"
      ]
    },
    {
      "cell_type": "code",
      "execution_count": null,
      "metadata": {
        "id": "Nh2gR1HfhINa"
      },
      "outputs": [],
      "source": [
        "import torch\n",
        "import torchvision\n",
        "from torchvision import transforms\n",
        "import torch.optim as optim\n",
        "from torch.utils.data import DataLoader,Dataset,ConcatDataset\n",
        "import torch.nn as nn\n",
        "import os\n",
        "import numpy as np\n",
        "import matplotlib.pyplot as plt\n",
        "import copy\n",
        "import math\n",
        "from models import LeNet,LeNet_BatchNorm,LeNet_GroupNorm\n",
        "from data import read_data,prepare_data_loader,tiny_image_net,EMD\n",
        "from gan import gan\n",
        "from encoder_decoder import *\n",
        "from train import *\n",
        "from test import *\n",
        "import random"
      ]
    },
    {
      "cell_type": "code",
      "execution_count": null,
      "metadata": {
        "id": "8D_32IZeNuwd"
      },
      "outputs": [],
      "source": [
        "random.seed(5318008)\n",
        "torch.manual_seed(5318008)"
      ]
    },
    {
      "cell_type": "markdown",
      "metadata": {
        "id": "rEpFssLI6V9V"
      },
      "source": [
        "### download data set and prepare loaders"
      ]
    },
    {
      "cell_type": "markdown",
      "metadata": {
        "id": "yJpi8HnPt6Y2"
      },
      "source": [
        "in this cell we download the datasets.\n",
        "imagenet is only used to train the generative model in case of using a pretrained one, you can comment everything related to imagnet"
      ]
    },
    {
      "cell_type": "markdown",
      "metadata": {
        "id": "LS5WLt-_LBT5"
      },
      "source": [
        "prepare_data_loader\n",
        "\n",
        " validation_fraction| centralized        | centalized_testing | output\n",
        "--------------------|--------------------|--------------------|--------------\n",
        "         0          |      True          |      ____          | [1 train loader]\n",
        "         0          |      False         |      ____          | [nb_clients train loaders]\n",
        "        >0          |      True          |      ____          | [1 train loader + 1 val loader]\n",
        "        >0          |      False         |      True          | [nb_clients train loaders + 1 val loader]\n",
        "        >0          |      False         |      False         | [nb_clients train loaders + nb_clients val loaders]\n"
      ]
    },
    {
      "cell_type": "markdown",
      "metadata": {
        "id": "QpZJCL5RSfjf"
      },
      "source": [
        "examples"
      ]
    },
    {
      "cell_type": "code",
      "execution_count": null,
      "metadata": {
        "id": "kJL4MPc1iSyY",
        "outputId": "d904abdf-8819-4f3e-a04e-8c1097a44ab0",
        "colab": {
          "base_uri": "https://localhost:8080/"
        }
      },
      "outputs": [
        {
          "output_type": "stream",
          "name": "stdout",
          "text": [
            "--2022-06-18 20:07:02--  https://www.cs.toronto.edu/~kriz/cifar-10-python.tar.gz\n",
            "Resolving www.cs.toronto.edu (www.cs.toronto.edu)... 128.100.3.30\n",
            "Connecting to www.cs.toronto.edu (www.cs.toronto.edu)|128.100.3.30|:443... connected.\n",
            "HTTP request sent, awaiting response... 200 OK\n",
            "Length: 170498071 (163M) [application/x-gzip]\n",
            "Saving to: ‘cifar-10-python.tar.gz’\n",
            "\n",
            "cifar-10-python.tar 100%[===================>] 162.60M  99.7MB/s    in 1.6s    \n",
            "\n",
            "2022-06-18 20:07:03 (99.7 MB/s) - ‘cifar-10-python.tar.gz’ saved [170498071/170498071]\n",
            "\n",
            "torch.Size([40000, 3, 32, 32])\n",
            "torch.Size([10000, 3, 32, 32])\n"
          ]
        },
        {
          "output_type": "stream",
          "name": "stderr",
          "text": [
            "/usr/local/lib/python3.7/dist-packages/torch/utils/data/dataloader.py:490: UserWarning: This DataLoader will create 4 worker processes in total. Our suggested max number of worker in current system is 2, which is smaller than what this DataLoader is going to create. Please be aware that excessive worker creation might get DataLoader running slow or even freeze, lower the worker number to avoid potential slowness/freeze if necessary.\n",
            "  cpuset_checked))\n"
          ]
        }
      ],
      "source": [
        "class extend:\n",
        "  def __call__(self,sample):\n",
        "    x=sample.view((1,3,32,32))\n",
        "    return x\n",
        "\n",
        "\n",
        "class map_0_1: # this transformation is used for mapping yhe 0-255 value pixels 0-1\n",
        "  def __init__(self,map):\n",
        "    self.map=map\n",
        "  def __call__(self,sample):\n",
        "    x=sample/float(self.map)\n",
        "    return x\n",
        "\n",
        "if not os.path.isfile('/content/cifar-10-python.tar.gz'):\n",
        "  !wget https://www.cs.toronto.edu/~kriz/cifar-10-python.tar.gz\n",
        "  !tar -xf /content/cifar-10-python.tar.gz\n",
        "'''\n",
        "if not os.path.isfile('/content/tiny-imagenet.zip'):\n",
        "  !kaggle datasets download -d akash2sharma/tiny-imagenet\n",
        "  !unzip /content/tiny-imagenet.zip\n",
        "  '''\n",
        "\n",
        "#1\n",
        "train_transform = transforms.Compose([ transforms.Normalize((0.5, 0.5, 0.5), (0.5, 0.5, 0.5))]) \n",
        "\n",
        "#2\n",
        "train_transform_map= transforms.Compose([map_0_1(255),transforms.Normalize((0.5, 0.5, 0.5), (0.5, 0.5, 0.5))])\n",
        "\n",
        "\n",
        "trans_imagenet=transforms.Compose([transforms.Resize((32,32)),transforms.ToTensor(),extend()])\n",
        "\n",
        "\n",
        "\n",
        "\n",
        "#data_imagenet=tiny_image_net('tiny-imagenet-200',trans_imagenet,0.5)\n",
        " \n",
        "data=read_data('/content/cifar-10-batches-py') #read_data retrun a list containing couples (label,sample)\n",
        "\n",
        "\n",
        "#prepare_data_loader return a set of loaders training loaders first anf the validation loader as the last element\n",
        "\n",
        "loaders=prepare_data_loader(data,train_transform_map,alpha=100,validation_fraction=0.2) # the validation set if specified will be the last element in the loader\n",
        "#loader_imagenet=prepare_data_loader(data_imagenet,train_transform)\n"
      ]
    },
    {
      "cell_type": "markdown",
      "metadata": {
        "id": "s1DDfWyKSR2h"
      },
      "source": [
        "### function to visulaize client data ditribution"
      ]
    },
    {
      "cell_type": "code",
      "execution_count": null,
      "metadata": {
        "id": "OavV05XnEL4H"
      },
      "outputs": [],
      "source": [
        "def visualize_distribution(x_loader,label):\n",
        "  labels = ['airplane', 'automobile', 'bird', 'cat', 'deer', 'dog', 'frog', 'horse', 'ship', 'truck']\n",
        "  l={i:0 for i in range(10)}\n",
        "  for _,z in x_loader.dataset:\n",
        "    l[z.item()]+=1\n",
        "  plt.hist(list(l.keys()),weights=list(l.values()),bins=[0.75+i*0.5 for i in range(18)],align='mid',label=label)\n",
        "  plt.xticks(np.arange(0, 10, step=1), labels, rotation=45)\n",
        "\n"
      ]
    },
    {
      "cell_type": "markdown",
      "metadata": {
        "id": "Bhcfy1d10jP_"
      },
      "source": [
        "### GAN"
      ]
    },
    {
      "cell_type": "markdown",
      "metadata": {
        "id": "-bDB7hTCvqcw"
      },
      "source": [
        "gan is a function from the gan.py file it takes as arguments nb of epochs, tarining loader and a set of parameters (Nz,Ndf,Ngf) that control the size of the gan model use the default values for the small gan (similar to letnet size)\n",
        "or (Nz=100,Ndf=128,Ngf=128) for the extra wide gan.\n",
        "\n",
        "it returns a gan model"
      ]
    },
    {
      "cell_type": "markdown",
      "metadata": {
        "id": "Br8RAQzQoXpS"
      },
      "source": [
        "![Screenshot 2022-05-12 205455.png](data:image/png;base64,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)"
      ]
    },
    {
      "cell_type": "code",
      "execution_count": null,
      "metadata": {
        "colab": {
          "base_uri": "https://localhost:8080/"
        },
        "id": "aF07mdhTB-0J",
        "outputId": "b2fef9e6-b82c-416d-cff5-4edb2452dcc7"
      },
      "outputs": [
        {
          "output_type": "execute_result",
          "data": {
            "text/plain": [
              "<All keys matched successfully>"
            ]
          },
          "metadata": {},
          "execution_count": 16
        }
      ],
      "source": [
        "#generator=gan(400,loader_imagenet[0]) #when training \n",
        "\n",
        "# for using a pretrained gan we first need to initialize/ initiate the model then load the weights\n",
        "generator=gan(0,None)\n",
        "generator.load_state_dict(torch.load('gan_model'))"
      ]
    },
    {
      "cell_type": "markdown",
      "metadata": {
        "id": "egt-Qe4V0lyo"
      },
      "source": [
        "### AutoEncoder"
      ]
    },
    {
      "cell_type": "code",
      "execution_count": null,
      "metadata": {
        "id": "-pOMXUirLvY8"
      },
      "outputs": [],
      "source": [
        "decoder,mean_tiny_img_net,cov_tiny_img_net=train_encoder_decoder(120,loader_imagenet[0],Device='cuda') #this method work similar to the gan method abovve but it also return the mean and cov matrix of the embeded space (not a variational autoencoder)"
      ]
    },
    {
      "cell_type": "markdown",
      "metadata": {
        "id": "7n6zeArr0p7A"
      },
      "source": [
        "### Display"
      ]
    },
    {
      "cell_type": "markdown",
      "metadata": {
        "id": "NKHzoP5iyR0x"
      },
      "source": [
        "the cell below display an image created by the generative models alongside an image from imagenet you can just remove imagenet part if you are not intrested in it"
      ]
    },
    {
      "cell_type": "code",
      "execution_count": null,
      "metadata": {
        "id": "gGt3Ji9mX-Kc"
      },
      "outputs": [],
      "source": [
        "import torchvision.utils as vutils\n",
        "#z=torch.from_numpy(np.random.multivariate_normal(mean_tiny_img_net,cov_tiny_img_net).astype(np.float32))\n",
        "#decoder.train(False)\n",
        "#z=torch.normal(torch.zeros((1,128,1,1)),1)\n",
        "\n",
        "#z=z.view((1,128,1,1))\n",
        "#d3=decoder(z.to('cuda'))\n",
        "\n",
        "\n",
        "# for wide gan\n",
        "z=torch.randn(1, 100, 1, 1) \n",
        "# or z=torch.randn(1, 25, 1, 1)  for the small gan\n",
        "z=z.to('cuda')\n",
        "d3=generator(z)\n",
        "d3=d3/(d3.max())\n",
        "print(d3)\n",
        "\n",
        "d3-=d3.min()\n",
        "d3=d3/d3.max()\n",
        "plt.figure(figsize=(10,10))\n",
        "\n",
        "d5=loader_imagenet[0].dataset[27][0].to('cpu').view((1,3,32,32))\n",
        "d5=d5/(d5.max()-d5.min())\n",
        "plt.imshow(np.transpose(vutils.make_grid(torch.cat((d3[0].to('cpu').view((1,3,32,32)),\n",
        "                              d5)),\n",
        "                                padding=2 ),(1,2,0)))\n"
      ]
    },
    {
      "cell_type": "markdown",
      "metadata": {
        "id": "rOWGBkWUuCcz"
      },
      "source": [
        "#learning rate tuning"
      ]
    },
    {
      "cell_type": "markdown",
      "metadata": {
        "id": "aGOrOrds6z1X"
      },
      "source": [
        "learning rate hyperparameter tuning for 20 epochs in centralized setting"
      ]
    },
    {
      "cell_type": "code",
      "execution_count": null,
      "metadata": {
        "id": "01JThIsUn2ds"
      },
      "outputs": [],
      "source": [
        "learning_rates=[0.2,0.15,0.1,0.08,0.06,0.05,0.04,0.02,0.01,0.005]\n",
        "weight_decay=10**-4\n",
        "loss=nn.CrossEntropyLoss()\n",
        "results=[]\n",
        "acc_val=[]\n",
        "z=0\n",
        "for lr in learning_rates:\n",
        "  net=LeNet(3,10)\n",
        "  net.to('cuda')\n",
        "\n",
        "  optimizer=torch.optim.SGD(net.parameters(),lr,weight_decay)\n",
        "  for i in range(30):\n",
        "    lo,acc=train(net,loaders[0],optimizer,loss,'cuda')\n",
        "    if(i==29):\n",
        "      z=z+1\n",
        "      results.append(f'lr= {lr}: loss= {lo}, acc= {acc}')\n",
        "      print(f'step {z} out of {len(learning_rates)}')\n",
        "  acc_val.append(test(net,loaders[1],'cuda'))\n",
        "\n",
        "torch.save({'acc_val':acc_val,'training':results},'parameter-tuning')"
      ]
    },
    {
      "cell_type": "markdown",
      "metadata": {
        "id": "7EH93Cu4uH5U"
      },
      "source": [
        "#weight and loss def"
      ]
    },
    {
      "cell_type": "code",
      "execution_count": null,
      "metadata": {
        "id": "AoSKJX5_uLvQ"
      },
      "outputs": [],
      "source": [
        "weight_decay=10**-4\n",
        "loss=nn.CrossEntropyLoss()"
      ]
    },
    {
      "cell_type": "markdown",
      "metadata": {
        "id": "dhyTAbO7uNWL"
      },
      "source": [
        "#centralized"
      ]
    },
    {
      "cell_type": "markdown",
      "metadata": {
        "id": "nleUh3X67FUV"
      },
      "source": [
        "training loop for 120 epochs centralized"
      ]
    },
    {
      "cell_type": "code",
      "execution_count": null,
      "metadata": {
        "id": "pkF-c3VyYv-e"
      },
      "outputs": [],
      "source": [
        "net=LeNet(3,10)\n",
        "net.to('cuda')\n",
        "lo,acc=[],[]\n",
        "loaders=prepare_data_loader(data,train_transform,validation_fraction=0.2)\n",
        "optimizer=torch.optim.SGD(net.parameters(),0.1,weight_decay)\n",
        "for i in range(120):\n",
        "  x,y=train(net,loaders[0],optimizer,loss,'cuda')\n",
        "  print(f'step {i} out of 120')\n",
        "  lo.append(x)\n",
        "  acc.append(y)\n",
        "accuracy=test(net,loaders[1],'cuda')\n",
        "plt.plot(range(120),lo,label='loss')\n",
        "plt.plot(range(120),acc,label='acc')\n",
        "plt.legend()"
      ]
    },
    {
      "cell_type": "code",
      "execution_count": null,
      "metadata": {
        "id": "0REKHoysWDNR"
      },
      "outputs": [],
      "source": [
        "accuracy"
      ]
    },
    {
      "cell_type": "markdown",
      "metadata": {
        "id": "0xLCTM7mupQe"
      },
      "source": [
        "#federated_learning"
      ]
    },
    {
      "cell_type": "markdown",
      "metadata": {
        "id": "erd074HM4Swv"
      },
      "source": [
        "\n",
        "*   **data**: data list(label,sample)\n",
        "*   **model**: 'LeNet' for standad lenet model , else : batchnorm lenet architecture\n",
        "*   **nbclients** : the total number of clients for whom the data is distributed\n",
        "*   **alpha**: controls heteroginity level 0.01-> max heteroginity , 1000+ for homogenous data\n",
        "*   **lr**: learning rate\n",
        "*   **epoch**: nb of local epochs performed at the client side between rounds\n",
        "*   **clients_per_round**: the fraction of clients choosed at each round to perform training\n",
        "*   **val_fraction**: validation fraction control the amount of data used for the validation phase\n",
        "*   **transform**: the transfromation functions performed on the data whole creating the loaders\n",
        "*    **nb_rounds**: the number of rounds for which the model is trained\n",
        "*    **mu**: the hyperparameter used to control the contibution of fedprox regularization term ( if fedprox is not used you can ignore it\n",
        "*   **wr**: the hyperparamter used to control the contribution of misclassifying a random/noise/unkown sample generated by the generative model used only with FedOS (the random/unkown loss weight)\n",
        "*   **fr**: a hyperparameter used to control the fraction of random samples generated by (generative model) also used with FedOS ( the fraction is propotionel to the data present at the client side for exaple if each client has 2000 training samples and fr=0.4 => 800 random samples will be generated for that client)\n",
        "*   **cycle**: a hyperparameter controlling if we want to reuse the generated random sample for each client at each round or we want to generate new samples each round  (with FedOS). it is better to set it to false since it is computationaly expensinve to cycle the random samples each round and there is no much gain in term of accuracy\n",
        "*   **mode**: 4 possible modes => FedOS / fedAvg / fedProx / fedIR\n",
        "*  **generation_model**: a dictinary containing the generative model with some extra information : type {gan,autoencoder} ,model, Nz for gan {100 for the wide gan and 25 for the samll one} , in case of using the autoencoder add mean and covariance\n",
        "\n",
        "\n",
        "\n",
        "```\n",
        "example : model_generation={\n",
        "    'type':'gan',\n",
        "    'model':generator,\n",
        "    'Nz':25,\n",
        "    #'mean':np.zeros(128),\n",
        "    #'cov':cov_tiny_img_net,\n",
        "}\n",
        "```\n",
        "\n"
      ]
    },
    {
      "cell_type": "code",
      "execution_count": null,
      "metadata": {
        "id": "1p3I-lG59L-3"
      },
      "outputs": [],
      "source": [
        "\n",
        "\n",
        "def federated_training(data,model='LeNet',nbclients=20,alpha=10000,lr=0.1,epoch=1,clients_per_round=0.2,val_fraction=0.2,\n",
        "                       transform=train_transform_map,nb_rounds=120,mu=0.1,wr=1,fr=0.5,cycle=True,mode='fedAvg',generation_model=None,num_groups=2,loaders_path=None):\n",
        "  \n",
        "\n",
        "  NbClients=nbclients # data distributed over 20 clients\n",
        "  Alpha=alpha # iid condition \n",
        "  NbClientsPerRound=clients_per_round # fraction of clients unfiformly choosen at each round\n",
        "  E=epoch # local epoch\n",
        "  Lr=lr # learning rate\n",
        "  TotalRounds=nb_rounds\n",
        "\n",
        "\n",
        "  if(mode=='fedOS'): # adding the random/unkown class in case of using FedOS\n",
        "    nb_out=11\n",
        "  else:\n",
        "    nb_out=10\n",
        "\n",
        "  loss_total=[]\n",
        "\n",
        "  if model=='LeNet':  \n",
        "    server_model=LeNet(3,nb_out)\n",
        "    client_models=[LeNet(3,nb_out) for i in range(NbClients)]\n",
        "  elif model == 'lenet_batchnorm':\n",
        "    server_model=LeNet_BatchNorm(3,nb_out)\n",
        "    client_models=[LeNet_BatchNorm(3,nb_out) for i in range(NbClients)]\n",
        "  elif model == 'lenet_groupnorm':\n",
        "    server_model=LeNet_GroupNorm(3,num_groups,nb_out)\n",
        "    client_models=[LeNet_GroupNorm(3,num_groups,nb_out) for i in range(NbClients)]\n",
        "\n",
        "  mock_string=mode if mode=='fedAvg' else mode+' '+str(mu)\n",
        "  file=f'/content/{model}_federated_{mock_string}_param_{epoch}_{Alpha}_{NbClientsPerRound}_{lr}' # to save and load the state of the model after each round in case of failur, loaders ...\n",
        "\n",
        "  if not os.path.isfile(file): # if the checkpoint doesnt exist yet\n",
        "    if(loaders_path==None):\n",
        "      loaders=prepare_data_loader(data,transform,validation_fraction=val_fraction,centralized=False,nb_clients=NbClients,alpha=Alpha)\n",
        "    else:\n",
        "      loaders=copy.deepcopy(torch.load(loaders_path))['loaders']\n",
        "    if(cycle==False and mode=='fedOS'): # no cycling create the random samples ad reuse them / we create the sample before starting the training loop mix them with the data in loaders and shuffle them\n",
        "      for j in range(len(loaders[:-1])):\n",
        "        loaders[j]=copy.deepcopy(mix_generate(loaders[j],fr,generation_model))\n",
        "    len_loaders=[len(i.dataset) for i in loaders]\n",
        "    \n",
        "\n",
        "    checkpoint={'round': 0, 'server_model': server_model.state_dict(), 'loaders': (loaders,len_loaders),'loss':loss_total}\n",
        "    torch.save(checkpoint,file)\n",
        "\n",
        "  checkpoint=copy.deepcopy(torch.load(file)) # load the previous weights or states in case of internet connection /session  problem continue from last round\n",
        "  server_model.load_state_dict(checkpoint['server_model'])\n",
        "  server_model.to('cuda')\n",
        "  loaders,len_loaders=checkpoint['loaders']\n",
        "  loss_total=copy.deepcopy(checkpoint['loss'])\n",
        "\n",
        "\n",
        "  ### # this section calculate the classes prob distribution on the server validation set , necessary for FedIR\n",
        "  p=[0]*10\n",
        "  for i,j in loaders[-1]:\n",
        "    for k in j:\n",
        "      p[k]+=1\n",
        "  p=np.array(p)\n",
        "  p=p/p.sum()\n",
        "  ####\n",
        "\n",
        "\n",
        "  for model in client_models:\n",
        "    model.load_state_dict(checkpoint['server_model'])\n",
        "\n",
        "\n",
        "  for Round in range(checkpoint['round'],TotalRounds): # begining of federated training\n",
        "    \n",
        "    choosen_indexes=np.random.choice(list(range(len(client_models))),round(NbClients*NbClientsPerRound)) # randomly choose clients to participate in this training round\n",
        "    choosen_models=[client_models[i] for i in choosen_indexes]\n",
        "    choosen_loaders=[loaders[i] for i in choosen_indexes]\n",
        "    choosen_weights=np.array([len_loaders[i] for i in choosen_indexes])\n",
        "    choosen_weights=choosen_weights/choosen_weights.sum() # weighting client depending on ni/n (ni nb samples the client have/ n total nb of sample in this round)\n",
        "    client_optimizers=[optim.SGD(model.parameters(),Lr,weight_decay) for model in choosen_models] #initialize optimizers (needed because of the communication step)\n",
        "    \n",
        "    loss_models=[] # list of client losses\n",
        "    for i,model in enumerate(choosen_models):\n",
        "      for epoch in range(E):\n",
        "        if(mode=='fedAvg'):\n",
        "          c,_=train(model,choosen_loaders[i],client_optimizers[i],loss,'cuda')\n",
        "        else:\n",
        "          if(mode=='fedProx'):\n",
        "            c,_=train_fedprox(server_model,model,choosen_loaders[i],client_optimizers[i],loss,mu,'cuda')\n",
        "          else:\n",
        "            if(mode=='fedOS'):\n",
        "              c,_=train_EXT(model,choosen_loaders[i],client_optimizers[i],wr,fr,'cuda',generation_model,cycle)\n",
        "            else:\n",
        "              c,_=train_IR(model,choosen_loaders[i],client_optimizers[i],loss,p,'cuda')\n",
        "        if(epoch==E-1):\n",
        "          loss_models.append(c)\n",
        "    loss_models=np.array(loss_models).mean()# average loss among the client loss\n",
        "    loss_total.append(loss_models)# list of round losses (loss at each round)\n",
        "\n",
        "\n",
        "    avg_weights=communication(server_model,choosen_models,choosen_weights,len(choosen_indexes))# aggregation\n",
        "    checkpoint['server_model']=copy.deepcopy(avg_weights)\n",
        "    checkpoint['round']=Round+1\n",
        "    checkpoint['loss']=loss_total\n",
        "    torch.save(checkpoint,file)\n",
        "\n",
        "    for model in client_models:# update all models with the new weights\n",
        "      model.load_state_dict(checkpoint['server_model'])\n",
        "    server_model.load_state_dict(checkpoint['server_model'])\n",
        "    if(Round%10==0):\n",
        "      print(f'round {Round} of {TotalRounds}')\n",
        "\n",
        "  return server_model,loaders,loss_total# return the final model the loaders (valiadtion) for testing, and the list of losses at each round\n"
      ]
    },
    {
      "cell_type": "markdown",
      "metadata": {
        "id": "Mm_OiNI1vJFe"
      },
      "source": [
        "#fedavg experiments"
      ]
    },
    {
      "cell_type": "markdown",
      "metadata": {
        "id": "xdDdBgUhzXi5"
      },
      "source": [
        "studying fedavg algorithm with different client data distributions setup"
      ]
    },
    {
      "cell_type": "code",
      "execution_count": null,
      "metadata": {
        "id": "B_p2-EMIjzK7"
      },
      "outputs": [],
      "source": [
        "acc=[]\n",
        "loss_total=[]\n",
        "rounds=120\n",
        "for i in [0.01,0.1,1,10,100,1000]:\n",
        "  acc_per_alpha=[]\n",
        "  for j in range(rounds):\n",
        "  model,loader,z=federated_training(data,transform=train_transform_map,alpha=alph,lr=0.1,clients_per_round=0.2,nbclients=20,mode='fedAvg',nb_rounds=j)\n",
        "  x=test(model,loader[-1],'cuda')\n",
        "  acc_per_alpha.append(x)\n",
        "  if j==k-1:\n",
        "    loss_total.append(z)\n",
        "  acc.append(acc_per_alpha)"
      ]
    },
    {
      "cell_type": "markdown",
      "metadata": {
        "id": "oOT3GnHRzP-X"
      },
      "source": [
        "the cell below is used to save the result in a checkpoint and dowloaded it locally"
      ]
    },
    {
      "cell_type": "code",
      "execution_count": null,
      "metadata": {
        "colab": {
          "base_uri": "https://localhost:8080/",
          "height": 17
        },
        "id": "_dfDP-A3zKRN",
        "outputId": "c37ae49d-2508-4f1c-8096-7e75516ac216"
      },
      "outputs": [
        {
          "data": {
            "application/javascript": "\n    async function download(id, filename, size) {\n      if (!google.colab.kernel.accessAllowed) {\n        return;\n      }\n      const div = document.createElement('div');\n      const label = document.createElement('label');\n      label.textContent = `Downloading \"${filename}\": `;\n      div.appendChild(label);\n      const progress = document.createElement('progress');\n      progress.max = size;\n      div.appendChild(progress);\n      document.body.appendChild(div);\n\n      const buffers = [];\n      let downloaded = 0;\n\n      const channel = await google.colab.kernel.comms.open(id);\n      // Send a message to notify the kernel that we're ready.\n      channel.send({})\n\n      for await (const message of channel.messages) {\n        // Send a message to notify the kernel that we're ready.\n        channel.send({})\n        if (message.buffers) {\n          for (const buffer of message.buffers) {\n            buffers.push(buffer);\n            downloaded += buffer.byteLength;\n            progress.value = downloaded;\n          }\n        }\n      }\n      const blob = new Blob(buffers, {type: 'application/binary'});\n      const a = document.createElement('a');\n      a.href = window.URL.createObjectURL(blob);\n      a.download = filename;\n      div.appendChild(a);\n      a.click();\n      div.remove();\n    }\n  ",
            "text/plain": [
              "<IPython.core.display.Javascript object>"
            ]
          },
          "metadata": {},
          "output_type": "display_data"
        },
        {
          "data": {
            "application/javascript": "download(\"download_6d1ab55d-2978-4a4d-875f-ade53bfead06\", \"accuracy_alpha\", 431)",
            "text/plain": [
              "<IPython.core.display.Javascript object>"
            ]
          },
          "metadata": {},
          "output_type": "display_data"
        }
      ],
      "source": [
        "#acc# alpha 1\n",
        "from google.colab import files\n",
        "accuracy_per_case={}\n",
        "for i,j,k in zip(acc,loss_total,[0.01,0.1,1,10,100,1000]):\n",
        "  accuracy_per_case[f'alpha={k}, clients_per_round=0.2, nbclients=20, acc']=i\n",
        "  accuracy_per_case[f'alpha={k}, clients_per_round=0.2, nbclients=20, loss']=j\n",
        "torch.save(accuracy_per_case,'accuracy_alpha')\n",
        "files.download('accuracy_alpha')"
      ]
    },
    {
      "cell_type": "markdown",
      "metadata": {
        "id": "85ZaYdH2rPMI"
      },
      "source": [
        "#fed_parameter variation"
      ]
    },
    {
      "cell_type": "markdown",
      "metadata": {
        "id": "Y4lX5r5qzsj8"
      },
      "source": [
        "varying the hyperparameters local epoch E and fraction of clients per round and study their influence with different alpha \n",
        "\n",
        "note : in the experiments done here i did fix one of the hyperparameter while changing the other since studying all the cases is time consuming"
      ]
    },
    {
      "cell_type": "code",
      "execution_count": null,
      "metadata": {
        "id": "CtFZr4plr6BP"
      },
      "outputs": [],
      "source": [
        "#[10,5,1,0.5,0.1,0.05]\n",
        "# for this experiments 60 rounds\n",
        "#[0.2],[0.4],[0.6],[0.8]\n",
        "#epch [1,2,5]\n",
        "from google.colab import files\n",
        "acc=[]\n",
        "loss_total=[]\n",
        "alph=1\n",
        "rounds=60\n",
        "accuracy_per_case={}\n",
        "cl_round=[0.2,0.4,0.6,0.8]\n",
        "e=1\n",
        "for i in cl_round:\n",
        "  acc_per_alpha=[]\n",
        "  for j in range(rounds):\n",
        "  model,loader,z=federated_training(data,transform=train_transform_map,epoch=e,alpha=alph,lr=0.1,clients_per_round=i,nbclients=20,mode='fedAvg',nb_rounds=j)\n",
        "  x=test(model,loader[-1],'cuda')\n",
        "  acc_per_alpha.append(x)\n",
        "  if j==k-1:\n",
        "    loss_total.append(z)\n",
        "  acc.append(acc_per_alpha)\n",
        "\n",
        "accuracy_per_case[alph]=(acc,loss_total)\n",
        "string_a=str(e)+' '+str(cl_round)+' '+str(alph)\n",
        "torch.save(accuracy_per_case,f'accuracy_alpha_e,cl_round,alph,rounds=60{string_a}')\n",
        "files.download(f'accuracy_alpha_e,cl_round,alph,rounds=60{string_a}')"
      ]
    },
    {
      "cell_type": "markdown",
      "metadata": {
        "id": "7HyTSZhexanO"
      },
      "source": [
        "#fedir-fedprox-fedavg-fedos"
      ]
    },
    {
      "cell_type": "markdown",
      "metadata": {
        "id": "gnjfU8-2Rlfc"
      },
      "source": [
        "the cell below contain 4 loops , one for each algorithm, in case you re experimenting with a specific algorithm feel free to comment the others.\n",
        "\n",
        "note that here we were trying to get the accuracy at each round so we need to get the aggregated model after each round.\n",
        "\n",
        "` the below code works thanks to the chekpoint saving the current round each time`"
      ]
    },
    {
      "cell_type": "code",
      "execution_count": null,
      "metadata": {
        "id": "_VkSGj7qaJSR"
      },
      "outputs": [],
      "source": [
        "acc=[[],[],[],[]]\n",
        "loss_total=[]\n",
        "alph=100\n",
        "k=120\n",
        "'''\n",
        "model_generation={\n",
        "    'type':'gan',\n",
        "    'model':generator,\n",
        "    'Nz':25,\n",
        "    #'mean':np.zeros(128),\n",
        "    #'cov':cov_tiny_img_net,\n",
        "}\n",
        "\n",
        "for i in range(k):\n",
        "  model,loader,z=federated_training(data,alpha=alph,lr=0.1,clients_per_round=0.2,nbclients=20,mode='fedProx',mu=1,nb_rounds=i)\n",
        "  x=test(model,loader[-1],'cuda')\n",
        "  acc[0].append(x)\n",
        "  if i==k-1:\n",
        "    loss_total.append(z)\n",
        "'''\n",
        "for i in range(k):\n",
        "  model,loader,z=federated_training(data,alpha=alph,lr=0.1,clients_per_round=0.2,nbclients=20,mode='fedAvg',nb_rounds=i)\n",
        "  x=test(model,loader[-1],'cuda')\n",
        "  acc[1].append(x)\n",
        "  if i==k-1:\n",
        "    loss_total.append(z)\n",
        "'''   \n",
        "for i in range(k):\n",
        "  model,loader,z=federated_training(data,alpha=alph,lr=0.1,clients_per_round=0.2,nbclients=20,mode='fedir',nb_rounds=i)\n",
        "  x=test(model,loader[-1],'cuda')\n",
        "  acc[2].append(x)\n",
        "  if i==k-1:\n",
        "    loss_total.append(z)\n",
        "\n",
        "for i in range(k):\n",
        "  model,loader,z=federated_training(data,alpha=alph,lr=0.1,clients_per_round=0.2,nbclients=20,mode='fedOS',\n",
        "                                    generation_model=model_generation,wr=1.5,fr=0.6,nb_rounds=i,cycle=False)\n",
        "  model2=copy.deepcopy(model)\n",
        "  model2.L2.weight.data=(model2.L2.weight[:10,:])\n",
        "  model2.L2.bias.data=model2.L2.bias[:10]\n",
        "  model2.L2.out_features=10\n",
        "  x=test(model2,loader[-1],'cuda')\n",
        "  acc[3].append(x)\n",
        "  if i==k-1:\n",
        "    loss_total.append(z)\n",
        "'''"
      ]
    },
    {
      "cell_type": "code",
      "execution_count": null,
      "metadata": {
        "id": "aoXduB_YGdsR"
      },
      "outputs": [],
      "source": [
        "torch.save({'acc':acc,'loss':loss_total},\"fedavg 120 rounds alpha=100\")"
      ]
    },
    {
      "cell_type": "markdown",
      "metadata": {
        "id": "ByamtNhfLXVR"
      },
      "source": [
        "#btch norm lenet"
      ]
    },
    {
      "cell_type": "code",
      "execution_count": null,
      "metadata": {
        "id": "MEMoZkcDP6xO"
      },
      "outputs": [],
      "source": [
        "acc=[[],[],[],[]]\n",
        "loss_total=[]\n",
        "alph=0.1\n",
        "k=120\n",
        "\n",
        "for i in range(k):\n",
        "  model,loader,z=federated_training(data,alpha=alph,lr=0.1,model='lenet_batchnorm',clients_per_round=0.2,nbclients=20,mode='fedAvg',nb_rounds=i)\n",
        "  x=test(model,loader[-1],'cuda')\n",
        "  acc[1].append(x)\n",
        "  if i==k-1:\n",
        "    loss_total.append(z)\n"
      ]
    },
    {
      "cell_type": "markdown",
      "source": [
        "# group Norm"
      ],
      "metadata": {
        "id": "LZ4YaxdsUbTT"
      }
    },
    {
      "cell_type": "code",
      "source": [
        "acc=[[],[],[],[]]\n",
        "loss_total=[]\n",
        "alph=0.075\n",
        "k=120\n",
        "\n",
        "for i in range(k):\n",
        "  model,loader,z=federated_training(data,alpha=alph,lr=0.1,transform=train_transform_map,model='lenet_groupnorm',clients_per_round=0.2,nbclients=20,mode='fedAvg',nb_rounds=i,num_groups=1)\n",
        "  x=test(model,loader[-1],'cuda')\n",
        "  acc[1].append(x)\n",
        "  if i==k-1:\n",
        "    loss_total.append(z)"
      ],
      "metadata": {
        "id": "iH0IOC_-Ueu4"
      },
      "execution_count": null,
      "outputs": []
    },
    {
      "cell_type": "markdown",
      "source": [
        "# Test"
      ],
      "metadata": {
        "id": "Jrqsb3tIOKMR"
      }
    },
    {
      "cell_type": "markdown",
      "source": [
        "## centralized"
      ],
      "metadata": {
        "id": "5QcwTJ_tZGZZ"
      }
    },
    {
      "cell_type": "code",
      "source": [
        "test_data=read_data('/content/cifar-10-batches-py',train=False)"
      ],
      "metadata": {
        "id": "YMTq1YbmOMAo"
      },
      "execution_count": null,
      "outputs": []
    },
    {
      "cell_type": "code",
      "source": [
        "net=LeNet(3,10)\n",
        "net.to('cuda')\n",
        "lo,acc=[],[]\n",
        "loaders=prepare_data_loader(data,train_transform_map,validation_fraction=0)\n",
        "optimizer=torch.optim.SGD(net.parameters(),0.1,weight_decay)\n",
        "for i in range(120):\n",
        "  x,y=train(net,loaders[0],optimizer,loss,'cuda')\n",
        "  print(f'step {i} out of 120')\n",
        "  lo.append(x)\n",
        "  acc.append(y)\n",
        "test_loader=prepare_data_loader(test_data,train_transform_map,validation_fraction=0)[0]\n",
        "accuracy=test(net,test_loader,'cuda')\n",
        "plt.plot(range(120),lo,label='loss')\n",
        "plt.plot(range(120),acc,label='acc')\n",
        "plt.legend()"
      ],
      "metadata": {
        "id": "vYzdjj5jOOg9"
      },
      "execution_count": null,
      "outputs": []
    },
    {
      "cell_type": "code",
      "source": [
        "accuracy"
      ],
      "metadata": {
        "id": "g5FU3KPyORw4"
      },
      "execution_count": null,
      "outputs": []
    },
    {
      "cell_type": "markdown",
      "source": [
        "## federated"
      ],
      "metadata": {
        "id": "nmC2P7S-ZJws"
      }
    },
    {
      "cell_type": "code",
      "source": [
        "l=prepare_data_loader(data,train_transform_map,centralized=False,alpha=1,nb_clients=20,validation_fraction=0.2)\n",
        "torch.save({'loaders':l},'loaders@alpha=1')"
      ],
      "metadata": {
        "id": "GJCLQ_gBZMk_"
      },
      "execution_count": null,
      "outputs": []
    },
    {
      "cell_type": "code",
      "source": [
        "rounds=500\n",
        "alph=0.01\n",
        "accuracy={}\n",
        "test_loader=prepare_data_loader(test_data,train_transform_map,validation_fraction=0)[0]\n",
        "if not os.path.isfile('best_model'):\n",
        "  best_model={'acc':0,'weights':0}\n",
        "else:\n",
        "  best_model=copy.deepcopy(torch.load('best_model'))\n",
        "\n",
        "for i in range(rounds):\n",
        "  model,loader,z=federated_training(data,transform=train_transform_map,alpha=alph,lr=0.1,clients_per_round=0.2,mu=1,\n",
        "                                    nbclients=20,mode='fedIR',nb_rounds=i,loaders_path='/content/drive/MyDrive/loaders@alpha=001')\n",
        "  x=test(model,loader[-1],'cuda')\n",
        "  if(x>best_model['acc']):\n",
        "    best_model['weights']=model.state_dict()\n",
        "    best_model['acc']=x\n",
        "    torch.save(best_model,'best_model')\n",
        "\n",
        "  if(i in [124,249,374,499]):\n",
        "    model.load_state_dict(best_model['weights'])\n",
        "    accuracy[i+1]=test(model,test_loader,'cuda')\n",
        "    print(test(model,test_loader,'cuda'))"
      ],
      "metadata": {
        "id": "kJUE5MIWuiGp"
      },
      "execution_count": null,
      "outputs": []
    },
    {
      "cell_type": "code",
      "source": [
        "rounds=500\n",
        "alph=0.01\n",
        "accuracy={}\n",
        "\n",
        "model_generation={\n",
        "    'type':'gan',\n",
        "    'model':generator,\n",
        "    'Nz':25,\n",
        "    #'mean':np.zeros(128),\n",
        "    #'cov':cov_tiny_img_net,\n",
        "}\n",
        "\n",
        "test_loader=prepare_data_loader(test_data,train_transform_map,validation_fraction=0)[0]\n",
        "if not os.path.isfile('best_model'):\n",
        "  best_model={'acc':0,'weights':0}\n",
        "else:\n",
        "  best_model=copy.deepcopy(torch.load('best_model'))\n",
        "\n",
        "\n",
        "for i in range(rounds):\n",
        "  model,loader,z=federated_training(data,alpha=alph,lr=0.1,clients_per_round=0.2,nbclients=20,mode='fedOS',\n",
        "                                    generation_model=model_generation,wr=1,fr=0.8,nb_rounds=i,cycle=False,loaders_path='/content/drive/MyDrive/loaders@alpha=001')\n",
        "  model2=copy.deepcopy(model)\n",
        "  model2.L2.weight.data=(model2.L2.weight[:10,:])\n",
        "  model2.L2.bias.data=model2.L2.bias[:10]\n",
        "  model2.L2.out_features=10\n",
        "  x=test(model2,loader[-1],'cuda')\n",
        "  if(x>best_model['acc']):\n",
        "    best_model['weights']=model2.state_dict()\n",
        "    best_model['acc']=x\n",
        "    torch.save(best_model,'best_model')\n",
        "\n",
        "  if(i in [124,249,374,499]):\n",
        "    model2.load_state_dict(best_model['weights'])\n",
        "    accuracy[i+1]=test(model2,test_loader,'cuda')\n",
        "    print(test(model2,test_loader,'cuda'))\n"
      ],
      "metadata": {
        "id": "77vDxw0MaS1R"
      },
      "execution_count": null,
      "outputs": []
    },
    {
      "cell_type": "code",
      "source": [
        "accuracy"
      ],
      "metadata": {
        "id": "7q2QY8Tbq6Ui",
        "outputId": "5d9b5291-d24b-4496-9c8b-ab2c6fee945b",
        "colab": {
          "base_uri": "https://localhost:8080/"
        }
      },
      "execution_count": null,
      "outputs": [
        {
          "output_type": "execute_result",
          "data": {
            "text/plain": [
              "{125: 0.3384, 250: 0.4278, 375: 0.4585, 500: 0.4844}"
            ]
          },
          "metadata": {},
          "execution_count": 13
        }
      ]
    }
  ],
  "metadata": {
    "accelerator": "GPU",
    "colab": {
      "collapsed_sections": [
        "rEpFssLI6V9V",
        "Bhcfy1d10jP_",
        "egt-Qe4V0lyo",
        "7n6zeArr0p7A",
        "rOWGBkWUuCcz",
        "dhyTAbO7uNWL",
        "Mm_OiNI1vJFe",
        "85ZaYdH2rPMI"
      ],
      "name": "federated_learning.ipynb",
      "provenance": []
    },
    "kernelspec": {
      "display_name": "Python 3",
      "name": "python3"
    },
    "language_info": {
      "name": "python"
    }
  },
  "nbformat": 4,
  "nbformat_minor": 0
}